{
 "cells": [
  {
   "cell_type": "markdown",
   "id": "c103ab1a",
   "metadata": {},
   "source": [
    "## Homework 11"
   ]
  },
  {
   "cell_type": "markdown",
   "id": "a7cd87e5",
   "metadata": {},
   "source": [
    "### 1) Design an observer for the oscillatory system $\\dot x(t) = v(t),v(t) = -\\omega_0^2x(t)$, using measurements of the velocity $v$. Place both observer poles at $s = -\\omega_0.$"
   ]
  },
  {
   "cell_type": "markdown",
   "id": "e1017de9",
   "metadata": {},
   "source": [
    "Linearization: $\\begin{bmatrix} \\dot x\\\\ \\dot v \\end{bmatrix} = \\begin{bmatrix} 0&1\\\\-\\omega_0^2 &0 \\end{bmatrix} \\begin{bmatrix} x\\\\ v \\end{bmatrix} + Bu$"
   ]
  },
  {
   "cell_type": "markdown",
   "id": "605b345c",
   "metadata": {},
   "source": [
    "$y = Cx$ where $C = \\begin{bmatrix} 0 &1 \\end{bmatrix}$"
   ]
  },
  {
   "cell_type": "markdown",
   "id": "5791e32b",
   "metadata": {},
   "source": [
    "observability $n = 2$.\n",
    "\n",
    "$\\mathcal{O} = [C^\\top, A^\\top C^\\top] = \\begin{bmatrix} 0&1\\\\ 1&0 \\end{bmatrix}$ has rank 2."
   ]
  },
  {
   "cell_type": "markdown",
   "id": "f3259926",
   "metadata": {},
   "source": [
    "The estimator of full state $x(t)$.\n",
    "\n",
    "$$\\dot {\\hat x}  = A\\hat x + Bu +K(y - \\hat y),$$\n",
    "where $\\hat y = C\\hat x +Du.$\n",
    "\n",
    "The error between the actual state $x(t)$ and the estimated state $\\hat x(t)$, $e(t) = x(t) - \\hat x(t)$.\n",
    "\n",
    "$$\\dot e(t) = [A - KC]e(t).$$\n",
    "\n",
    "$K = \\begin{bmatrix}k_1\\\\k_2\\end{bmatrix}$"
   ]
  },
  {
   "cell_type": "markdown",
   "id": "98728e7f",
   "metadata": {},
   "source": [
    "Characteristic equation:\n",
    "\n",
    "$det(sI - (A-KC)) = det\\begin{bmatrix} s& k_1-1\\\\ \\omega_0^2& s+k_2 \\end{bmatrix} = s^2 + k_2s - \\omega_0^2k_1 + \\omega_0^2$"
   ]
  },
  {
   "cell_type": "markdown",
   "id": "6d47444e",
   "metadata": {},
   "source": [
    "Given the doble eigenvalues are both $-\\omega_0$, we can write the characteristic eqution as \n",
    "$$(s+\\omega_0)^2 = s^2 +2\\omega_0s+\\omega_0^2.$$"
   ]
  },
  {
   "cell_type": "markdown",
   "id": "f0fe2a18",
   "metadata": {},
   "source": [
    "By matching the parameters, we can determine that $k_2 = 2\\omega_0, k_1 = 0.$ Therefore,\n",
    "$$K = [0 ~~~~~2\\omega_0]^\\top$$"
   ]
  },
  {
   "cell_type": "markdown",
   "id": "225cca54",
   "metadata": {},
   "source": [
    "### 2) Consider the system $$\\dot x =\\begin{bmatrix}0 &1\\\\1& 0 \\end{bmatrix}x+[0~~~ -1]^\\top u, y = [1,0]x.$$ "
   ]
  },
  {
   "cell_type": "markdown",
   "id": "f28fb505",
   "metadata": {},
   "source": [
    "#### a)"
   ]
  },
  {
   "cell_type": "markdown",
   "id": "c2d9a916",
   "metadata": {},
   "source": [
    "First, we need to check controllability of this system.\n",
    "$$ \\mathcal{C} = \\begin{bmatrix} B& AB\\end{bmatrix}$$"
   ]
  },
  {
   "cell_type": "code",
   "execution_count": 25,
   "id": "33f32f4d",
   "metadata": {},
   "outputs": [
    {
     "name": "stdout",
     "output_type": "stream",
     "text": [
      "[[ 0 -1]\n",
      " [-1  0]]\n"
     ]
    }
   ],
   "source": [
    "import numpy as np\n",
    "A = np.array([[0, 1], \n",
    "    [1, 0]])\n",
    "B = np.array([[0],[-1]])\n",
    "C = np.block([[B,A@B]])\n",
    "print(C)"
   ]
  },
  {
   "cell_type": "code",
   "execution_count": 26,
   "id": "f69eab9b",
   "metadata": {},
   "outputs": [
    {
     "name": "stdout",
     "output_type": "stream",
     "text": [
      "2\n"
     ]
    }
   ],
   "source": [
    "rank_C = np.linalg.matrix_rank(C)\n",
    "print(rank_C)"
   ]
  },
  {
   "cell_type": "markdown",
   "id": "411ab624",
   "metadata": {},
   "source": [
    "Hence the rank of controllability matrix is 2, (A, B) is controllable. Therefore, eigenvalues of A + BF can be assigned to arbitary."
   ]
  },
  {
   "cell_type": "markdown",
   "id": "2589169e",
   "metadata": {},
   "source": [
    "Closed loop scheme:\n",
    "$$\\dot x = (A + BF) x $$"
   ]
  },
  {
   "cell_type": "markdown",
   "id": "1ec393a4",
   "metadata": {},
   "source": [
    "####  Assigning eigenvalues and eigenvectors\n",
    "\n",
    "$[\\lambda_j I - (A+BF)] v_j = 0$, which can be written as \n",
    "$$ [\\lambda_j I - A, B)] \\begin{bmatrix}M_j\\\\-D_j\\end{bmatrix} = 0$$,\n",
    "where $M_j = v_j$ and $D_j = -Fv_j$, and $\\begin{bmatrix}M_j\\\\-D_j\\end{bmatrix}$ is in null space of $[\\lambda_j I - (A+BF)]$."
   ]
  },
  {
   "cell_type": "code",
   "execution_count": 27,
   "id": "ef7f22c6",
   "metadata": {},
   "outputs": [
    {
     "name": "stdout",
     "output_type": "stream",
     "text": [
      "M1= [[-0.58504689-0.14613865j]\n",
      " [ 0.21945412+0.36559277j]]\n",
      "-D1= [[0.65811621-0.14638479j]]\n",
      "M2= [[-0.58504689+0.14613865j]\n",
      " [ 0.21945412-0.36559277j]]\n",
      "-D2= [[0.65811621+0.14638479j]]\n"
     ]
    }
   ],
   "source": [
    "from scipy.linalg import null_space\n",
    "\n",
    "eigen_lst = [complex(-0.5,-0.5),complex(-0.5,0.5)]\n",
    "M = []\n",
    "D = []\n",
    "for i in range(2):\n",
    "    space = np.block([eigen_lst[i]*np.identity(2)-A,B])\n",
    "    ns = null_space(space)\n",
    "    M.append(ns[:2,:])\n",
    "    D.append(ns[2:,:])\n",
    "    print('M'+str(i+1)+'=',ns[:2,:])\n",
    "    print('-D'+str(i+1)+'=',ns[2:,:])"
   ]
  },
  {
   "cell_type": "markdown",
   "id": "f5aa69d2",
   "metadata": {},
   "source": [
    "Since $\\begin{bmatrix} M_j\\\\-D_j\\end{bmatrix} $is a basis, there exists a nonzero $m \\times 1$ vector $a_j$ s.t.\n",
    "$$ \\begin{bmatrix}M_j\\\\-D_j\\end{bmatrix}a_j = \\begin{bmatrix}v_j\\\\-Fv_j\\end{bmatrix}$$"
   ]
  },
  {
   "cell_type": "markdown",
   "id": "5a8a2d37",
   "metadata": {},
   "source": [
    "Combining the relations $-D_ja_j = -Fv_j$ and $M_ja_j = v_j$, we have\n",
    "$$ FM_ja_j = D_ja_j$$"
   ]
  },
  {
   "cell_type": "code",
   "execution_count": 28,
   "id": "3f0e51f8",
   "metadata": {},
   "outputs": [
    {
     "name": "stdout",
     "output_type": "stream",
     "text": [
      "[[ 0.58504689+0.14613865j -0.58504689+0.14613865j]\n",
      " [-0.21945412-0.36559277j  0.21945412-0.36559277j]]\n"
     ]
    }
   ],
   "source": [
    "a1 = np.array([[-1]])\n",
    "a2 = np.array([[1]])\n",
    "a_lst = [a1,a2]\n",
    "V = np.block([[M[i]@a_lst[i].T for i in range(2)]])##M_ja_j\n",
    "print(V)"
   ]
  },
  {
   "cell_type": "markdown",
   "id": "9ee31f1a",
   "metadata": {},
   "source": [
    "$$ W = D_ja_j$$\n",
    "$$ FV = W$$"
   ]
  },
  {
   "cell_type": "code",
   "execution_count": 29,
   "id": "31129471",
   "metadata": {},
   "outputs": [
    {
     "name": "stdout",
     "output_type": "stream",
     "text": [
      "[[ 0.65811621-0.14638479j -0.65811621-0.14638479j]]\n"
     ]
    }
   ],
   "source": [
    "W = np.block([[-D[i]@a_lst[i].T for i in range(2)]])\n",
    "print(W)"
   ]
  },
  {
   "cell_type": "code",
   "execution_count": 30,
   "id": "16effb07",
   "metadata": {},
   "outputs": [
    {
     "name": "stdout",
     "output_type": "stream",
     "text": [
      "[[1.5+0.0000000e+00j 1. -6.9388939e-18j]]\n"
     ]
    }
   ],
   "source": [
    "F = W@np.linalg.inv(V)\n",
    "print(F)"
   ]
  },
  {
   "cell_type": "markdown",
   "id": "f95027f0",
   "metadata": {},
   "source": [
    "#### Plot $x(t)$ for the open- and closed-loop system"
   ]
  },
  {
   "cell_type": "code",
   "execution_count": 89,
   "id": "6be702ff",
   "metadata": {},
   "outputs": [
    {
     "name": "stdout",
     "output_type": "stream",
     "text": [
      "[[ -0.6          0.4       ]\n",
      " [ -0.5980055    0.39700199]\n",
      " [ -0.59602598   0.39401392]\n",
      " ...\n",
      " [-14.69690224 -14.69009651]\n",
      " [-14.77061064 -14.76383888]\n",
      " [-14.84468904 -14.8379511 ]]\n"
     ]
    }
   ],
   "source": [
    "### Open-loop system\n",
    "n = 1000\n",
    "t = np.linspace(0,5,n)\n",
    "def RHS(x, t):\n",
    "    \n",
    "    A = np.array([[0, 1], \n",
    "    [1, 0]])\n",
    "    \n",
    "    dxdt = A@x\n",
    "    return dxdt\n",
    "\n",
    "from scipy.integrate import odeint\n",
    "\n",
    "x0 = np.array([-0.6,0.4])\n",
    "'''line 176 of _odeintw.py, it checks to see whether there really are complex numbers, \n",
    "by checking if the initial condition is complex. Since in this case, our initial value of states are all real\n",
    "I just make one of them \n",
    "'''\n",
    "sol = odeint(RHS, x0,t)\n",
    "\n",
    "print(sol)"
   ]
  },
  {
   "cell_type": "code",
   "execution_count": 90,
   "id": "aa1f5308",
   "metadata": {},
   "outputs": [
    {
     "data": {
      "image/png": "[encoded data removed]",
      "text/plain": [
       "<Figure size 432x288 with 1 Axes>"
      ]
     },
     "metadata": {
      "needs_background": "light"
     },
     "output_type": "display_data"
    }
   ],
   "source": [
    "import matplotlib.pyplot as plt\n",
    "import numpy as np\n",
    "color1 = (0.5, 0.4, 0.3)\n",
    "color2 = (0.2, 0.2, 1.0)\n",
    "plt.plot(t, sol[:, 0], color=color1, label='x1')\n",
    "plt.plot(t, sol[:, 1], '--', color=color2, linewidth=1.5, label='x2')\n",
    "plt.legend(loc='best')\n",
    "plt.grid(True)\n",
    "plt.xlabel('t')\n",
    "plt.ylabel('State')\n",
    "plt.show()"
   ]
  },
  {
   "cell_type": "code",
   "execution_count": 31,
   "id": "453731af",
   "metadata": {},
   "outputs": [
    {
     "name": "stdout",
     "output_type": "stream",
     "text": [
      "[[-6.00000000e-01+0.00000000e+00j  4.00000000e-01+0.00000000e+00j]\n",
      " [-5.96001028e-01+1.38289785e-22j  3.98994022e-01+2.76098475e-20j]\n",
      " [-5.92012174e-01+5.51276691e-22j  3.97978171e-01+5.48734341e-20j]\n",
      " ...\n",
      " [-2.42809932e-03-2.25299792e-19j -5.62991666e-04+7.49898224e-20j]\n",
      " [-2.43364606e-03-2.24547461e-19j -5.45278305e-04+7.53247489e-20j]\n",
      " [-2.43901624e-03-2.23791806e-19j -5.27714188e-04+7.56538036e-20j]]\n"
     ]
    }
   ],
   "source": [
    "### Closed-loop system\n",
    "n = 1000\n",
    "t = np.linspace(0,10,n)\n",
    "def RHS(x, t):\n",
    "    \n",
    "    A = np.array([[0, 1], \n",
    "    [1, 0]])\n",
    "    B = np.array([[0],[-1]])\n",
    "    \n",
    "    dxdt = (A+B@F)@x\n",
    "    return dxdt\n",
    "\n",
    "from odeintw import odeintw\n",
    "\n",
    "x0 = np.array([-0.6+0j,0.4])\n",
    "'''line 176 of _odeintw.py, it checks to see whether there really are complex numbers, \n",
    "by checking if the initial condition is complex. Since in this case, our initial value of states are all real\n",
    "I just make one of them \n",
    "'''\n",
    "sol = odeintw(RHS, x0,t)\n",
    "\n",
    "print(sol)"
   ]
  },
  {
   "cell_type": "code",
   "execution_count": 32,
   "id": "76b7a248",
   "metadata": {},
   "outputs": [
    {
     "data": {
      "image/png": "[encoded data removed]",
      "text/plain": [
       "<Figure size 432x288 with 1 Axes>"
      ]
     },
     "metadata": {
      "needs_background": "light"
     },
     "output_type": "display_data"
    }
   ],
   "source": [
    "import matplotlib.pyplot as plt\n",
    "import numpy as np\n",
    "color1 = (0.5, 0.4, 0.3)\n",
    "color2 = (0.2, 0.2, 1.0)\n",
    "plt.plot(t, sol[:, 0].real, color=color1, label='x1 real')\n",
    "plt.plot(t, sol[:, 0].imag, color=color2, label='x1 imag')\n",
    "plt.plot(t, sol[:, 1].real, '--', color=color1, linewidth=1.5, label='x2 real')\n",
    "plt.plot(t, sol[:, 1].imag, '--', color=color2, linewidth=1.5, label='x2 imag')\n",
    "plt.legend(loc='best')\n",
    "plt.grid(True)\n",
    "plt.xlabel('t')\n",
    "plt.ylabel('State')\n",
    "plt.show()"
   ]
  },
  {
   "cell_type": "markdown",
   "id": "3b20c1c2",
   "metadata": {},
   "source": [
    "#### b)"
   ]
  },
  {
   "cell_type": "markdown",
   "id": "ae3c251a",
   "metadata": {},
   "source": [
    "Assume $K = [k_1,k_2]^\\top$.\n",
    "\n",
    "Characteristic equation:\n",
    "\n",
    "$det(sI - (A-KC)) = det\\begin{bmatrix} s + k_1& -1\\\\ k_2 -1 & s \\end{bmatrix} = s^2 + k_1s + k_2 -1$"
   ]
  },
  {
   "cell_type": "markdown",
   "id": "ff1635a2",
   "metadata": {},
   "source": [
    "Given the eigenvalues are  $-\\alpha ± j$, we can write the characteristic eqution as \n",
    "$$(s+\\alpha +j)(s+\\alpha -j) = s^2 +2\\alpha s+\\alpha^2 + 1.$$"
   ]
  },
  {
   "cell_type": "markdown",
   "id": "295f2746",
   "metadata": {},
   "source": [
    "By matching the parameters, we can determine that $k_2 = \\alpha^2+2, k_1 = 2\\alpha.$ Therefore,\n",
    "$$K = [2\\alpha~~~~~\\alpha^2+2]^\\top$$"
   ]
  },
  {
   "cell_type": "markdown",
   "id": "129f73b2",
   "metadata": {},
   "source": [
    "#### c)\n",
    "\n",
    "The original open-loop system is \n",
    "$$ \\dot x  = Ax + Bu$$\n",
    "$$  y = Cx $$\n",
    "Estimator of states \n",
    "    $$ \\dot{\\hat x} = A\\hat x +Bu + K(y-\\hat y) = (A - KC)\\hat x + KCx +Bu,$$\n",
    "    where $\\hat y = C\\hat x$ \n",
    "\n",
    "The state equations of the compensated system are \n",
    "$$ \\dot x = Ax +BF\\hat x$$\n",
    "$$\\dot{\\hat x} = KCx + (A - KC +BF)\\hat x.$$\n",
    "The output equation is still \n",
    "$$ y = Cx$$\n",
    "State representation of then compensated closed-loop system:\n",
    "$$\\begin{bmatrix} \\dot x \\\\\\dot{\\hat x}\\end{bmatrix} = \\begin{bmatrix} A & BF \\\\KC & A-KC+BF\\end{bmatrix}\\begin{bmatrix}x\\\\\\hat x\\end{bmatrix}$$\n",
    "$$ y = Cx$$"
   ]
  },
  {
   "cell_type": "markdown",
   "id": "8f5ea688",
   "metadata": {},
   "source": [
    "#### d). For$ x(0) = [-0.6,0.4]^ \\top $and $x(0) = [0,0]^\\top$ plot $\\hat x(t),x(t),y(t)$ and $u(t)$ of the closed-loop system obtained in (c) and comment on your results. Use $\\alpha$ = 1,2,5, and 10 and comment on the effects on the system response."
   ]
  },
  {
   "cell_type": "code",
   "execution_count": 38,
   "id": "54216cb7",
   "metadata": {},
   "outputs": [
    {
     "name": "stdout",
     "output_type": "stream",
     "text": [
      "[[ 0. +0.0000000e+00j  1. +0.0000000e+00j  0. +0.0000000e+00j\n",
      "   0. +0.0000000e+00j]\n",
      " [ 1. +0.0000000e+00j  0. +0.0000000e+00j -1.5+0.0000000e+00j\n",
      "  -1. +6.9388939e-18j]\n",
      " [ 2. +0.0000000e+00j  0. +0.0000000e+00j -2. +0.0000000e+00j\n",
      "   1. +0.0000000e+00j]\n",
      " [ 3. +0.0000000e+00j  0. +0.0000000e+00j -3.5+0.0000000e+00j\n",
      "  -1. +6.9388939e-18j]]\n"
     ]
    }
   ],
   "source": [
    "'''alpha = 1\n",
    "K = np.array([[2*alpha],[alpha**2+2]])\n",
    "C = np.array([[1,0]])\n",
    "big_matrix = np.block([[A,B@F],[K@C,A-K@C+B@F]])\n",
    "print(big_matrix)\n",
    "'''\n"
   ]
  },
  {
   "cell_type": "code",
   "execution_count": 50,
   "id": "8c16f039",
   "metadata": {},
   "outputs": [],
   "source": [
    "'''n = 2000\n",
    "t = np.linspace(0,20,n)\n",
    "def RHS(x, t):\n",
    "    \n",
    "    dxdt = big_matrix@x\n",
    "    return dxdt\n",
    "'''"
   ]
  },
  {
   "cell_type": "code",
   "execution_count": 51,
   "id": "03504368",
   "metadata": {},
   "outputs": [
    {
     "data": {
      "image/png": "[encoded data removed]",
      "text/plain": [
       "<Figure size 432x288 with 1 Axes>"
      ]
     },
     "metadata": {
      "needs_background": "light"
     },
     "output_type": "display_data"
    },
    {
     "data": {
      "image/png": "[encoded data removed]",
      "text/plain": [
       "<Figure size 432x288 with 1 Axes>"
      ]
     },
     "metadata": {
      "needs_background": "light"
     },
     "output_type": "display_data"
    },
    {
     "data": {
      "image/png": "[encoded data removed]",
      "text/plain": [
       "<Figure size 432x288 with 1 Axes>"
      ]
     },
     "metadata": {
      "needs_background": "light"
     },
     "output_type": "display_data"
    },
    {
     "data": {
      "image/png": "[encoded data removed]",
      "text/plain": [
       "<Figure size 432x288 with 1 Axes>"
      ]
     },
     "metadata": {
      "needs_background": "light"
     },
     "output_type": "display_data"
    }
   ],
   "source": [
    "alpha = [1,2,5,10]\n",
    "for i in alpha:\n",
    "    K = np.array([[2*i],[i**2+2]])\n",
    "    C = np.array([[1,0]])\n",
    "    big_matrix = np.block([[A,B@F],[K@C,A-K@C+B@F]])\n",
    "    x0 = np.array([-0.6+0j,0.4,0+0j,0])\n",
    "    sol = odeintw(RHS, x0,t)\n",
    "    color1 = (0.5, 0.4, 0.3)\n",
    "    color2 = (0.2, 0.2, 1.0)\n",
    "    color3 = (0.8, 0.3, 0.5)\n",
    "    color4 = (0.6, 0.9, 0.2)\n",
    "    plt.plot(t, sol[:, 0].real, color=color1, label='x1 real')\n",
    "    plt.plot(t, sol[:, 1].real, color=color2, linewidth=1.5, label='x2 real')\n",
    "    plt.plot(t, sol[:, 2].real, color=color3, label='x1 estimator real')\n",
    "    plt.plot(t, sol[:, 3].real, color=color4, label='x2 estimatorreal')\n",
    "   \n",
    "    plt.legend(loc='best')\n",
    "    plt.grid(True)\n",
    "    plt.xlabel('t')\n",
    "    plt.ylabel('State')\n",
    "    plt.show()"
   ]
  },
  {
   "cell_type": "markdown",
   "id": "bcc213be",
   "metadata": {},
   "source": [
    "The grater the magnitude of filter gain is, quicker the state estimators converge to the true states."
   ]
  },
  {
   "cell_type": "markdown",
   "id": "0285c239",
   "metadata": {},
   "source": [
    "### 3) Consider the system\n",
    "$$\\Large \\dot x = \\begin{bmatrix} -0.0507 & -3.861 &0&-32.2\\\\ -0.00117 & -0.5164 &1&0\\\\-0.000129&1.4168&-0.4932&0\\\\0&0&1&0\\end{bmatrix} x + \\begin{pmatrix} 0 \\\\ -0.0717\\\\- 1 . 6 45\\\\0 \\end{pmatrix} u.$$\n",
    "\n",
    "$$\\Large y = Cx$$\n",
    "where $$\\Large C = \\begin{bmatrix}0&1&0&0\\\\0&0&1&0\\end{bmatrix}$$"
   ]
  },
  {
   "cell_type": "markdown",
   "id": "94dcb40b",
   "metadata": {},
   "source": [
    "#### a)"
   ]
  },
  {
   "cell_type": "markdown",
   "id": "d387fd47",
   "metadata": {},
   "source": [
    "Closed-loop system:\n",
    "\n",
    "$$\\dot x = (A + BF)x$$"
   ]
  },
  {
   "cell_type": "markdown",
   "id": "b0eb9c87",
   "metadata": {},
   "source": [
    "####  Assigning eigenvalues and eigenvectors\n",
    "\n",
    "$[\\lambda_j I - (A+BF)] v_j = 0$, which can be written as \n",
    "$$ [\\lambda_j I - A, B)] \\begin{bmatrix}M_j\\\\-D_j\\end{bmatrix} = 0$$,\n",
    "where $M_j = v_j$ and $D_j = -Fv_j$, and $\\begin{bmatrix}M_j\\\\-D_j\\end{bmatrix}$ is in null space of $[\\lambda_j I - (A+BF)]$."
   ]
  },
  {
   "cell_type": "code",
   "execution_count": 91,
   "id": "d9326125",
   "metadata": {},
   "outputs": [],
   "source": [
    "import numpy as np\n",
    "A = np.array([[-0.0507, -3.861, 0, -32.2], \n",
    "    [-0.00117 , -0.5164 ,1, 0],\n",
    "    [-0.000129, 1.4168, -0.4932, 0],\n",
    "    [0,0,1,0]])\n",
    "    \n",
    "B = np.array([[ 0], \n",
    "    [-0.0717],\n",
    "    [-1.645],\n",
    "    [0]])"
   ]
  },
  {
   "cell_type": "code",
   "execution_count": 92,
   "id": "33b3ff95",
   "metadata": {},
   "outputs": [
    {
     "name": "stdout",
     "output_type": "stream",
     "text": [
      "M1= [[-0.92594239+0.11062856j]\n",
      " [-0.05471319-0.04402889j]\n",
      " [-0.08159872+0.15054505j]\n",
      " [-0.03570835-0.05573252j]]\n",
      "-D1= [[0.29187639+0.08102311j]]\n",
      "M2= [[-0.92594239-0.11062856j]\n",
      " [-0.05471319+0.04402889j]\n",
      " [-0.08159872-0.15054505j]\n",
      " [-0.03570835+0.05573252j]]\n",
      "-D2= [[0.29187639-0.08102311j]]\n",
      "M3= [[ 3.53056653e-01+9.35594206e-01j]\n",
      " [-6.44428567e-04-1.36310312e-03j]\n",
      " [ 1.71858076e-04+2.47781944e-04j]\n",
      " [ 2.39131002e-03-2.06074922e-03j]]\n",
      "-D3= [[0.00061889+0.00133009j]]\n",
      "M4= [[ 3.53056653e-01-9.35594206e-01j]\n",
      " [-6.44428567e-04+1.36310312e-03j]\n",
      " [ 1.71858076e-04-2.47781944e-04j]\n",
      " [ 2.39131002e-03+2.06074922e-03j]]\n",
      "-D4= [[0.00061889-0.00133009j]]\n"
     ]
    }
   ],
   "source": [
    "from scipy.linalg import null_space\n",
    "\n",
    "eigen_lst = [complex(-1.25,-2.265),complex(-1.25,2.265),complex(-0.01,0.095),complex(-0.01,-0.095)]\n",
    "M = []\n",
    "D = []\n",
    "for i in range(4):\n",
    "    space = np.block([eigen_lst[i]*np.identity(4)-A,B])\n",
    "    ns = null_space(space)\n",
    "    M.append(ns[:4,:])\n",
    "    D.append(ns[4:,:])\n",
    "    print('M'+str(i+1)+'=',ns[:4,:])\n",
    "    print('-D'+str(i+1)+'=',ns[4:,:])"
   ]
  },
  {
   "cell_type": "markdown",
   "id": "d37ef152",
   "metadata": {},
   "source": [
    "Since $\\begin{bmatrix} M_j\\\\-D_j\\end{bmatrix} $is a basis, there exists a nonzero $m \\times 1$ vector $a_j$ s.t.\n",
    "$$ \\begin{bmatrix}M_j\\\\-D_j\\end{bmatrix}a_j = \\begin{bmatrix}v_j\\\\-Fv_j\\end{bmatrix}$$"
   ]
  },
  {
   "cell_type": "markdown",
   "id": "ffb1af8c",
   "metadata": {},
   "source": [
    "Combining the relations $-D_ja_j = -Fv_j$ and $M_ja_j = v_j$, we have\n",
    "$$ FM_ja_j = D_ja_j$$"
   ]
  },
  {
   "cell_type": "code",
   "execution_count": 93,
   "id": "effd9cff",
   "metadata": {},
   "outputs": [
    {
     "name": "stdout",
     "output_type": "stream",
     "text": [
      "[[-9.25942388e-01+1.10628563e-01j  9.25942388e-01+1.10628563e-01j\n",
      "   1.76528326e+00+4.67797103e+00j -2.11833992e+00+5.61356524e+00j]\n",
      " [-5.47131936e-02-4.40288885e-02j  5.47131936e-02-4.40288885e-02j\n",
      "  -3.22214284e-03-6.81551562e-03j  3.86657140e-03-8.17861874e-03j]\n",
      " [-8.15987238e-02+1.50545055e-01j  8.15987238e-02+1.50545055e-01j\n",
      "   8.59290381e-04+1.23890972e-03j -1.03114846e-03+1.48669166e-03j]\n",
      " [-3.57083466e-02-5.57325197e-02j  3.57083466e-02-5.57325197e-02j\n",
      "   1.19565501e-02-1.03037461e-02j -1.43478601e-02-1.23644953e-02j]]\n"
     ]
    }
   ],
   "source": [
    "a1 = np.array([[1]])\n",
    "a2 = np.array([[-1]])\n",
    "a3 = np.array([[5]])\n",
    "a4 = np.array([[-6]])\n",
    "a_lst = [a1,a2,a3,a4]\n",
    "V = np.block([[M[i]@a_lst[i] for i in range(4)]])##M_ja_j\n",
    "print(V)"
   ]
  },
  {
   "cell_type": "markdown",
   "id": "03b8eb9a",
   "metadata": {},
   "source": [
    "$$ W = D_ja_j$$\n",
    "$$ FV = W$$"
   ]
  },
  {
   "cell_type": "code",
   "execution_count": 94,
   "id": "2caa060b",
   "metadata": {},
   "outputs": [
    {
     "name": "stdout",
     "output_type": "stream",
     "text": [
      "[[-0.29187639-0.08102311j  0.29187639-0.08102311j -0.00309445-0.00665043j\n",
      "   0.00371334-0.00798051j]]\n"
     ]
    }
   ],
   "source": [
    "W = np.block([[-D[i]@a_lst[i] for i in range(4)]])\n",
    "print(W)"
   ]
  },
  {
   "cell_type": "code",
   "execution_count": 95,
   "id": "e15ce813",
   "metadata": {},
   "outputs": [
    {
     "name": "stdout",
     "output_type": "stream",
     "text": [
      "[[0.00465493-2.17382536e-17j 4.12568754+4.64905892e-16j\n",
      "  0.70753082-1.07899800e-15j 0.11490429-7.32747196e-15j]]\n"
     ]
    }
   ],
   "source": [
    "F = W@np.linalg.inv(V)\n",
    "print(F)"
   ]
  },
  {
   "cell_type": "markdown",
   "id": "e9d65fce",
   "metadata": {},
   "source": [
    "$$u = Fx$$"
   ]
  },
  {
   "cell_type": "markdown",
   "id": "ca3ecfc6",
   "metadata": {},
   "source": [
    "#### b) Full-order state observer"
   ]
  },
  {
   "cell_type": "markdown",
   "id": "026df414",
   "metadata": {},
   "source": [
    "Check observability\n",
    "\n",
    "The observability matrix is:\n",
    "$$\\mathcal{O} = \\begin{bmatrix}C^T &(CA)^T &(CA^2)^T &(CA^3)^T \\\\ \\end{bmatrix}$$"
   ]
  },
  {
   "cell_type": "code",
   "execution_count": 96,
   "id": "55112e0d",
   "metadata": {},
   "outputs": [
    {
     "name": "stdout",
     "output_type": "stream",
     "text": [
      "4\n"
     ]
    }
   ],
   "source": [
    "A = np.array([[-0.0507, -3.861, 0, -32.2], \n",
    "    [-0.00117 , -0.5164 ,1, 0],\n",
    "    [-0.000129, 1.4168, -0.4932, 0],\n",
    "    [0,0,1,0]])\n",
    "C = np.array([[0,1,0,0],[0,0,1,0]])\n",
    "O = np.block([[C.T,(C@A).T,(C@A@A).T,(C@A@A@A).T]])\n",
    "rank_O = np.linalg.matrix_rank(O)\n",
    "print(rank_O)"
   ]
  },
  {
   "cell_type": "markdown",
   "id": "0c7317fa",
   "metadata": {},
   "source": [
    "Since the number of non-zero sigular value is 4, the rank of observability matrix $\\mathcal{O}$ is 4. That implies observability matrix has full rank. Therefore, this system is observable."
   ]
  },
  {
   "cell_type": "markdown",
   "id": "b050325d",
   "metadata": {},
   "source": [
    "####  Assigning eigenvalues and eigenvectors"
   ]
  },
  {
   "cell_type": "markdown",
   "id": "83a57f8a",
   "metadata": {},
   "source": [
    "$[\\lambda_j I - (A-KC)]^\\top v_j = 0$, which can be written as \n",
    "$$ [\\lambda_j I - A^\\top, C^\\top)] \\begin{bmatrix}M_j\\\\D_j\\end{bmatrix} = 0$$,\n",
    "where $M_j a_j= v_j$ and $D_j a_j = K^\\top v_j$, and $\\begin{bmatrix}M_j\\\\D_j\\end{bmatrix}$ is in null space of $[\\lambda_j I - (A-KC)]^\\top$."
   ]
  },
  {
   "cell_type": "code",
   "execution_count": 97,
   "id": "65735566",
   "metadata": {},
   "outputs": [],
   "source": [
    "C = np.array([[0,1,0,0],[0,0,1,0]])"
   ]
  },
  {
   "cell_type": "code",
   "execution_count": 98,
   "id": "b92a9096",
   "metadata": {},
   "outputs": [
    {
     "name": "stdout",
     "output_type": "stream",
     "text": [
      "M1= [[ 1.51767858e-18  1.62608420e-19]\n",
      " [-5.75691756e-02  1.72393290e-02]\n",
      " [ 5.22139035e-01 -1.56356705e-01]\n",
      " [ 3.60390470e-01  6.30209914e-01]]\n",
      "D1= [[ 0.76949531 -0.23042857]\n",
      " [ 0.04530232  0.72456437]]\n",
      "M2= [[-3.06125148e-05  1.98473674e-03]\n",
      " [-7.23083853e-02  6.16174771e-01]\n",
      " [ 5.67945710e-01  1.08709556e-01]\n",
      " [-2.34138474e-03  1.51801717e-01]]\n",
      "D2= [[ 0.8116819   0.08757356]\n",
      " [-0.11565545  0.76012766]]\n",
      "M3= [[-1.95821874e-04  1.43426897e-03]\n",
      " [-1.52719529e-01  6.47826970e-01]\n",
      " [ 5.71027738e-01  8.71387120e-02]\n",
      " [-1.07418473e-02  7.86771054e-02]]\n",
      "D3= [[ 0.79900617  0.163657  ]\n",
      " [-0.10989897  0.73467769]]\n",
      "M4= [[-2.56326851e-04  8.30518290e-04]\n",
      " [-2.75744354e-01  6.78597860e-01]\n",
      " [ 6.14649725e-01 -4.30114990e-02]\n",
      " [-8.25372460e-03  2.67426889e-02]]\n",
      "D4= [[0.73847544 0.2640246 ]\n",
      " [0.0275064  0.68354232]]\n"
     ]
    }
   ],
   "source": [
    "eigen_lst = [0,-0.421,-0.587,-1]\n",
    "M = []\n",
    "D = []\n",
    "for i in range(4):\n",
    "    space = np.block([eigen_lst[i]*np.identity(4)-A.T,C.T])\n",
    "    ns = null_space(space)\n",
    "    M.append(ns[:4,:])\n",
    "    D.append(ns[4:,:])\n",
    "    print('M'+str(i+1)+'=',ns[:4,:])\n",
    "    print('D'+str(i+1)+'=',ns[4:,:])"
   ]
  },
  {
   "cell_type": "markdown",
   "id": "dcb25d3e",
   "metadata": {},
   "source": [
    "Combining the relations $D_ja_j = K^\\top v_j$ and $M_ja_j = v_j$, we have\n",
    "$$ K^\\top M_ja_j = D_ja_j$$"
   ]
  },
  {
   "cell_type": "code",
   "execution_count": 99,
   "id": "3af82a88",
   "metadata": {},
   "outputs": [
    {
     "name": "stdout",
     "output_type": "stream",
     "text": [
      "[[ 1.51767858e-18  2.01534925e-03  1.88942857e-03  7.35158913e-03]\n",
      " [-5.75691756e-02  6.88483156e-01  5.32056294e-01  6.40465114e+00]\n",
      " [ 5.22139035e-01 -4.59236154e-01  3.02941611e+00 -3.98897885e+00]\n",
      " [ 3.60390470e-01  1.54143102e-01  1.03644974e-01  2.36721170e-01]]\n"
     ]
    }
   ],
   "source": [
    "a1 = np.array([[1,0]])\n",
    "a2 = np.array([[-1,1]])\n",
    "a3 = np.array([[5,2]])\n",
    "a4 = np.array([[-6,7]])\n",
    "a_lst = [a1,a2,a3,a4]\n",
    "V = np.block([[M[i]@a_lst[i].T for i in range(4)]])##M_ja_j\n",
    "print(V)"
   ]
  },
  {
   "cell_type": "code",
   "execution_count": 100,
   "id": "d5544b88",
   "metadata": {},
   "outputs": [
    {
     "name": "stdout",
     "output_type": "stream",
     "text": [
      "[[ 0.76949531 -0.72410834  4.32234484 -2.58268042]\n",
      " [ 0.04530232  0.87578311  0.9198605   4.61975783]]\n"
     ]
    }
   ],
   "source": [
    "W = np.block([[D[i]@a_lst[i].T for i in range(4)]])\n",
    "print(W)"
   ]
  },
  {
   "cell_type": "code",
   "execution_count": 101,
   "id": "59e74409",
   "metadata": {},
   "outputs": [
    {
     "name": "stdout",
     "output_type": "stream",
     "text": [
      "[[-3.42484395e+02  2.97207878e+02]\n",
      " [ 9.04452185e-01  4.02392248e-01]\n",
      " [ 1.47675452e+00  4.32478151e-02]\n",
      " [ 1.40105523e-01  1.27323955e-01]]\n"
     ]
    }
   ],
   "source": [
    "K_T = W@np.linalg.inv(V)\n",
    "print(K_T.T)"
   ]
  },
  {
   "cell_type": "markdown",
   "id": "63499194",
   "metadata": {},
   "source": [
    "Therefore, the full-order state observer with eigenvalues\n",
    "at 0, -0.421, -0.587, and - 1 is $K = \\begin{bmatrix} -3.42484395e+02  &2.97207878e+02\\\\\n",
    " 9.04452185e-01 & 4.02392248e-01\\\\\n",
    " 1.47675452e+00 & 4.32478151e-02\\\\\n",
    " 1.40105523e-01  &1.27323955e-01 \\end{bmatrix}$"
   ]
  },
  {
   "cell_type": "markdown",
   "id": "0a7b8731",
   "metadata": {},
   "source": [
    "#### c). Let the system be compensated via the state feedback control law $u = F\\hat x$ , where $\\hat x$ is the output of the state estimator. Derive the state-space representation."
   ]
  },
  {
   "cell_type": "markdown",
   "id": "ff06b72d",
   "metadata": {},
   "source": [
    "The original open-loop system is \n",
    "$$ \\dot x  = Ax + Bu$$\n",
    "$$  y = Cx $$\n",
    "Estimator of states \n",
    "    $$ \\dot{\\hat x} = A\\hat x +Bu + K(y-\\hat y) = (A - KC)\\hat x + KCx +Bu,$$\n",
    "    where $\\hat y = C\\hat x$ \n",
    "\n",
    "The state equations of the compensated system are \n",
    "$$ \\dot x = Ax +BF\\hat x$$\n",
    "$$\\dot{\\hat x} = KCx + (A - KC +BF)\\hat x.$$\n",
    "The output equation is still \n",
    "$$ y = Cx$$\n",
    "State representation of then compensated closed-loop system:\n",
    "$$\\begin{bmatrix} \\dot x \\\\\\dot{\\hat x}\\end{bmatrix} = \\begin{bmatrix} A & BF \\\\KC & A-KC+BF\\end{bmatrix}\\begin{bmatrix}x\\\\\\hat x\\end{bmatrix}$$\n",
    "$$ y = Cx$$"
   ]
  },
  {
   "cell_type": "markdown",
   "id": "ba189604",
   "metadata": {},
   "source": [
    "#### d). Use the LQR formulation to determine a stabilizing linear state feedback control law u = Fx"
   ]
  },
  {
   "cell_type": "markdown",
   "id": "e7678a59",
   "metadata": {},
   "source": [
    "minimize $$J(u) = \\int_0^\\infty x^\\top Qx+u^\\top Rudt$$\n",
    "R = 1, and $Q = \\begin{bmatrix} 100&0&0&0\\\\0&30&0&0\\\\0&0&50&0\\\\0&0&0&30 \\end{bmatrix}$\n",
    "\n",
    "Since we are studying the landing process of an aircraft, we care more about making the aircraft stop and have less constriants on control cost."
   ]
  },
  {
   "cell_type": "code",
   "execution_count": 102,
   "id": "a01e48f4",
   "metadata": {},
   "outputs": [
    {
     "name": "stdout",
     "output_type": "stream",
     "text": [
      "[[  26.1433836   -12.66128987   -5.44700352 -111.04989199]\n",
      " [ -12.66128987   34.29927463    4.75874835   65.11435175]\n",
      " [  -5.44700352    4.75874835    7.23140704   48.67823665]\n",
      " [-111.04989199   65.11435175   48.67823665  820.50615902]]\n"
     ]
    }
   ],
   "source": [
    "R = 1\n",
    "Q = np.array([[100,0,0,0],[0,30,0,0],[0,0,50,0],[0,0,0,30]])\n",
    "import scipy.linalg as sl\n",
    "\n",
    "S = sl.solve_continuous_are(A,B,Q,R)\n",
    "print(S)"
   ]
  },
  {
   "cell_type": "code",
   "execution_count": 103,
   "id": "a31d6639",
   "metadata": {},
   "outputs": [
    {
     "name": "stdout",
     "output_type": "stream",
     "text": [
      "[[-9.86813527 10.28739903 12.23686684 84.74439831]]\n"
     ]
    }
   ],
   "source": [
    "control_law = -B.T@S\n",
    "print(control_law)"
   ]
  },
  {
   "cell_type": "markdown",
   "id": "52daf1d1",
   "metadata": {},
   "source": [
    "#### e). Assume that process noise $w$ and measurement noise $v$ are present and that both are uncorrelated, zero-mean Gaussian, stochastic processes with covariances $W = 10^{-4}$ and $ V = 10^{-2}$, respectively. Let $\\mathrm{T} = [0, 1, 1, 0]^\\top$ and design an optimal observer."
   ]
  },
  {
   "cell_type": "markdown",
   "id": "30ce03b8",
   "metadata": {},
   "source": [
    "Optimal observer for the linear time-invariant system\n",
    "$$\\dot x = Ax + Bu + \\mathrm(T) w, y = Cx + v$$\n",
    "The covariances of each of w and v are\n",
    "$$E(ww^\\top) = W, E(vv^\\top) = V$$\n",
    "Then consider the estimator,\n",
    "$$\\dot{\\hat x} = (A - KC)\\hat x +Bu +Ky$$.\n",
    "The error covariance $E[(x-\\hat x)(x-\\hat x)^\\top]$ is minimized when the filter gain is given by \n",
    "$$K = S_eC^\\top V^{-1}$$\n",
    "where $S_e$ is the minimum error covariance and is given by the Riccati equation\n",
    "$$ S_eA^\\top + AS_e - S_eC^\\top V^{-1}CS_e + \\mathrm(TWT^\\top) = 0,$$\n",
    " "
   ]
  },
  {
   "cell_type": "code",
   "execution_count": 104,
   "id": "bca70873",
   "metadata": {},
   "outputs": [
    {
     "name": "stdout",
     "output_type": "stream",
     "text": [
      "[[ 6.54167819e+01 -4.67690801e-01 -5.21292032e-01 -8.08536649e-01]\n",
      " [-4.67690801e-01  6.29736475e-03  7.30779295e-03  9.89301371e-03]\n",
      " [-5.21292032e-01  7.30779295e-03  8.49704839e-03  1.14588625e-02]\n",
      " [-8.08536649e-01  9.89301371e-03  1.14588625e-02  1.68177755e-02]]\n"
     ]
    }
   ],
   "source": [
    "T = np.array([[0],[1],[1],[0]])\n",
    "W = 10**(-4)\n",
    "V = 10**(-2)*np.identity(2)\n",
    "Q = W*T@T.T\n",
    "S_e = sl.solve_continuous_are(A.T,C.T,Q,V)\n",
    "print(S_e)"
   ]
  },
  {
   "cell_type": "code",
   "execution_count": 105,
   "id": "cb77f844",
   "metadata": {},
   "outputs": [
    {
     "name": "stdout",
     "output_type": "stream",
     "text": [
      "[[-46.76908014 -52.12920322]\n",
      " [  0.62973648   0.73077929]\n",
      " [  0.73077929   0.84970484]\n",
      " [  0.98930137   1.14588625]]\n"
     ]
    }
   ],
   "source": [
    "K = S_e@C.T@np.linalg.inv(V)\n",
    "print(K)"
   ]
  },
  {
   "cell_type": "markdown",
   "id": "dbdcd69b",
   "metadata": {},
   "source": [
    "#### f).  Design an optimal LQG observer-based dynamic controller and determine the eigenvalues of the closed-loop system. Discuss your answer in view of the results in (c)."
   ]
  },
  {
   "cell_type": "markdown",
   "id": "c80f090a",
   "metadata": {},
   "source": [
    "Linear Quadratic Gaussian control design is optimal in the sense that the control law $u^*(t) = F^*\\hat x(t)$ minimizes $E[\\int_0^\\infty (x^\\top Qx + u^\\top R u)dt].$\n",
    "The optimal control law is given by\n",
    "$$ u^*(t) = F^*\\hat x(t) = -R^{-1}B^\\top S_c^*\\hat x(t),$$\n",
    "where $S_c^* > 0$ is the solution of the algebraic Riccati equation\n",
    "$$A^\\top S_c + S_cA-S_cBR^{-1}B^\\top S_c + Q = 0.$$"
   ]
  },
  {
   "cell_type": "markdown",
   "id": "411fec9a",
   "metadata": {},
   "source": [
    "The closed-loop we drived in c)\n",
    "$$\\begin{bmatrix} \\dot x \\\\\\dot{\\hat x}\\end{bmatrix} = \\begin{bmatrix} A & BF \\\\KC & A-KC+BF\\end{bmatrix}\\begin{bmatrix}x\\\\\\hat x\\end{bmatrix}$$\n",
    "$$ y = Cx$$\n",
    "which is equivalent to \n",
    "$$\\begin{bmatrix} \\dot x \\\\\\dot e\\end{bmatrix} = \\begin{bmatrix} A + BF & -BF\\\\0& A-KC\\end{bmatrix}\\begin{bmatrix}x\\\\E\\end{bmatrix}$$\n",
    "$$ y = Cx$$"
   ]
  },
  {
   "cell_type": "markdown",
   "id": "8781232f",
   "metadata": {},
   "source": [
    "The closed-loop eigenvalues are the roots of the polynomial\n",
    "$$\\left|\\lambda I_n - (A+BF)\\right|\\left|\\lambda I_n - (A-KC)\\right|$$"
   ]
  },
  {
   "cell_type": "code",
   "execution_count": 109,
   "id": "538857db",
   "metadata": {},
   "outputs": [
    {
     "name": "stdout",
     "output_type": "stream",
     "text": [
      "[-1.25      -2.265j      -1.25      +2.265j      -0.01      -0.095j\n",
      " -0.01      +0.095j      -0.04640264+0.20435866j -0.04640264-0.20435866j\n",
      " -0.74357692+0.j         -1.70335913+0.j        ]\n"
     ]
    }
   ],
   "source": [
    "big_matrix = np.block([[A+B@F,-B@F],[np.zeros((4,4)),A-K@C]])\n",
    "eigenvalue, eigenvector = np.linalg.eig(big_matrix)\n",
    "print(eigenvalue)"
   ]
  },
  {
   "cell_type": "markdown",
   "id": "b49f9cb9",
   "metadata": {},
   "source": [
    "The real parts of all eigenvalues are negative, so the closed-loop system is stable."
   ]
  },
  {
   "cell_type": "markdown",
   "id": "ab7c44f1",
   "metadata": {},
   "source": [
    "### 4). Consider the discrete-time system $x(k+1) =Ax(k) + Bu(k) +\\omega_k, y(k) = C(k)x(k) + v_k,$ where $u≡0$.\n",
    "$$ A = \\begin{bmatrix} 1 & 0.1\\\\0&1 \\end{bmatrix}, C = [1,0]$$"
   ]
  },
  {
   "cell_type": "markdown",
   "id": "ca3f281b",
   "metadata": {},
   "source": [
    "Let's assume that the covariance matrices of $w$ and $v$ are both $0.01 I$."
   ]
  },
  {
   "cell_type": "code",
   "execution_count": 70,
   "id": "91b2b82a",
   "metadata": {},
   "outputs": [],
   "source": [
    "import numpy as np\n",
    "numsteps = 20\n",
    "\n",
    "x = np.zeros((2,numsteps))\n",
    "x[:,0] = [1,1]\n",
    "\n",
    "y = np.zeros(numsteps)\n",
    "y[0] = x[0,0] + np.random.normal(0,.01)\n",
    "\n",
    "F = np.eye(2) + np.array([[0,0.1],[0,0]])\n",
    "\n",
    "for k in range(numsteps-1):\n",
    "    x[:,k+1] = F@x[:,k] + np.random.normal(0,.01,2)\n",
    "    y[k+1] = x[0,k+1] + np.random.normal(0,.01)"
   ]
  },
  {
   "cell_type": "markdown",
   "id": "057ec9a1",
   "metadata": {},
   "source": [
    "Our updates for our state estimates are given by the following equations:\n",
    "\n",
    "$$\n",
    "P_k = ( (Q_{k-1} + F_{k-1}P_{k-1}F_{k-1}^T)^{-1} + H_k^T R_k^{-1} H_k )^{-1}\n",
    "$$\n",
    "\n",
    "$$\n",
    "\\hat x_k = F_{k-1}\\hat x_{k-1} - P_K H_k^T R_k^{-1} ( H_k (F_{k-1} \\hat x_{k-1}) - y_k)\n",
    "$$"
   ]
  },
  {
   "cell_type": "code",
   "execution_count": 73,
   "id": "73fdb1f6",
   "metadata": {},
   "outputs": [],
   "source": [
    "import numpy.linalg as la\n",
    "\n",
    "hatX = np.zeros((2,numsteps))\n",
    "P = np.eye(2)\n",
    "\n",
    "Q = np.eye(2)*0.01\n",
    "R = 0.01\n",
    "\n",
    "H = np.array([[1,0]])\n",
    "\n",
    "for k in range(numsteps-1):\n",
    "    P = la.inv( la.inv(Q + F@P@F.T) + H.T@H/R)\n",
    "    hatX[:,k+1] = F@hatX[:,k] - P@H.T@(H@(F@hatX[:,k])-y[k+1])/R"
   ]
  },
  {
   "cell_type": "code",
   "execution_count": 83,
   "id": "2c2c25d4",
   "metadata": {},
   "outputs": [
    {
     "data": {
      "image/png": "[encoded data removed]",
      "text/plain": [
       "<Figure size 432x288 with 1 Axes>"
      ]
     },
     "metadata": {
      "needs_background": "light"
     },
     "output_type": "display_data"
    }
   ],
   "source": [
    "plt.plot(range(numsteps), hatX[0,:], color=color1, label='x1 estimator')\n",
    "plt.plot(range(numsteps), x[0,:], color=color2, label='x1 real')\n",
    "plt.plot(range(numsteps), hatX[1,:], color=color3, label='x2 estimator')\n",
    "plt.plot(range(numsteps), x[1,:], color=color4, label='x2 real')\n",
    "   \n",
    "plt.legend(loc='best')\n",
    "plt.grid(True)\n",
    "plt.xlabel('t')\n",
    "plt.ylabel('State')\n",
    "plt.show()"
   ]
  },
  {
   "cell_type": "code",
   "execution_count": null,
   "id": "d4b6d4ad",
   "metadata": {},
   "outputs": [],
   "source": []
  }
 ],
 "metadata": {
  "kernelspec": {
   "display_name": "Python 3",
   "language": "python",
   "name": "python3"
  },
  "language_info": {
   "codemirror_mode": {
    "name": "ipython",
    "version": 3
   },
   "file_extension": ".py",
   "mimetype": "text/x-python",
   "name": "python",
   "nbconvert_exporter": "python",
   "pygments_lexer": "ipython3",
   "version": "3.8.8"
  }
 },
 "nbformat": 4,
 "nbformat_minor": 5
}
