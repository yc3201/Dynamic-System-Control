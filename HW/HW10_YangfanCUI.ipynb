{
 "cells": [
  {
   "cell_type": "markdown",
   "id": "349300e5",
   "metadata": {},
   "source": [
    "## Homework 10"
   ]
  },
  {
   "cell_type": "markdown",
   "id": "518e9e18",
   "metadata": {},
   "source": [
    "### 1) For the system $\\dot x = Ax + Bu$.\n",
    "$$\\Large A = \\begin{bmatrix} 0 & 1 & 0&0\\\\ 0 & 0&1&0 \\\\0 & 0& 0&1\\\\ 1 & 1&-3&4 \\end{bmatrix}, B = \\begin{pmatrix} 1&0 \\\\ 0&0\\\\0&0\\\\0&1 \\end{pmatrix} $$\n"
   ]
  },
  {
   "cell_type": "markdown",
   "id": "4e8c8303",
   "metadata": {},
   "source": [
    "First, we need to check controllability of this system.\n",
    "$$ \\mathcal{C} = \\begin{bmatrix} B& AB&A^2B&A^3B\\end{bmatrix}$$"
   ]
  },
  {
   "cell_type": "code",
   "execution_count": 323,
   "id": "9a6b7aca",
   "metadata": {},
   "outputs": [
    {
     "name": "stdout",
     "output_type": "stream",
     "text": [
      "[[ 1  0  0  0  0  0  0  1]\n",
      " [ 0  0  0  0  0  1  1  4]\n",
      " [ 0  0  0  1  1  4  4 13]\n",
      " [ 0  1  1  4  4 13 13 41]]\n"
     ]
    }
   ],
   "source": [
    "import numpy as np\n",
    "A = np.array([[0, 1, 0, 0], \n",
    "    [0 , 0 ,1, 0],\n",
    "    [0, 0, 0, 1],\n",
    "    [1,1,-3,4]])\n",
    "B = np.array([[1,0],[0,0],[0,0],[0,1]])\n",
    "C = np.block([[B,A@B,A@A@B,A@A@A@B]])\n",
    "print(C)"
   ]
  },
  {
   "cell_type": "code",
   "execution_count": 324,
   "id": "22d46594",
   "metadata": {},
   "outputs": [
    {
     "name": "stdout",
     "output_type": "stream",
     "text": [
      "4\n"
     ]
    }
   ],
   "source": [
    "rank_C = np.linalg.matrix_rank(C)\n",
    "print(rank_C)"
   ]
  },
  {
   "cell_type": "markdown",
   "id": "a42d9a2a",
   "metadata": {},
   "source": [
    "Hence the rank of controllability matrix is 4, (A, B) is controllable. Therefore, eigenvalues of A + BF can be assigned to arbitary."
   ]
  },
  {
   "cell_type": "markdown",
   "id": "80b3d4ec",
   "metadata": {},
   "source": [
    "We write the open loop system in the format of closed loop scheme:\n",
    "$$\\dot x = (A + BF) x $$"
   ]
  },
  {
   "cell_type": "markdown",
   "id": "18678633",
   "metadata": {},
   "source": [
    "#### i). Direct Method\n",
    "\n",
    "In order to have eigenvalues as $-1 \\pm j, -2 \\pm j$, $p(\\lambda) = (\\lambda + (1 - j))(\\lambda + (1 + j))(\\lambda + (2 - j))(\\lambda + (2 + j)) = \\lambda^4 + 3\\lambda^3+9\\lambda^2+9\\lambda + 10$ "
   ]
  },
  {
   "cell_type": "markdown",
   "id": "8a8a4fbb",
   "metadata": {},
   "source": [
    "$$ F = \\begin{bmatrix} f_1 & f_2 & f_3 & f_4\\\\f_5 & f_6 & f_7 & f_8 \\end{bmatrix}$$"
   ]
  },
  {
   "cell_type": "markdown",
   "id": "4b5a0aba",
   "metadata": {},
   "source": [
    "$det((A + BF) - \\lambda I) = \\begin{vmatrix} f_1 - \\lambda & f_2+1&f_3&f_4\\\\0&-\\lambda&1&0\\\\0&0&-\\lambda&1\\\\f_5+1&f_6+1&f_7-3&f_8+4-\\lambda \\end{vmatrix}$"
   ]
  },
  {
   "cell_type": "markdown",
   "id": "e8ccef57",
   "metadata": {},
   "source": [
    "Then we just need to match the parameters before each order of $\\lambda$ to determine each element in matrix F."
   ]
  },
  {
   "cell_type": "markdown",
   "id": "8a2b236e",
   "metadata": {},
   "source": [
    "#### ii). Assigning eigenvalues and eigenvectors\n",
    "\n",
    "$[\\lambda_j I - (A+BF)] v_j = 0$, which can be written as \n",
    "$$ [\\lambda_j I - A, B)] \\begin{bmatrix}M_j\\\\-D_j\\end{bmatrix} = 0$$,\n",
    "where $M_j = v_j$ and $D_j = -Fv_j$, and $\\begin{bmatrix}M_j\\\\-D_j\\end{bmatrix}$ is in null space of $[\\lambda_j I - (A+BF)]$."
   ]
  },
  {
   "cell_type": "code",
   "execution_count": 325,
   "id": "a5f6ca37",
   "metadata": {},
   "outputs": [
    {
     "name": "stdout",
     "output_type": "stream",
     "text": [
      "[[-10.  -1.  -0.  -0.   1.   0.]\n",
      " [ -0. -10.  -1.  -0.   0.   0.]\n",
      " [ -0.  -0. -10.  -1.   0.   0.]\n",
      " [ -1.  -1.   3. -14.   0.   1.]]\n",
      "[[ 9.95081615e-02 -5.35398214e-05]\n",
      " [-6.93046244e-05  6.97132074e-04]\n",
      " [ 6.93046244e-04 -6.97132074e-03]\n",
      " [-6.93046244e-03  6.97132074e-02]\n",
      " [ 9.95012311e-01  1.61733860e-04]\n",
      " [ 3.33243956e-04  9.97542457e-01]]\n"
     ]
    }
   ],
   "source": [
    "space = np.block([eigenvalue*np.identity(4)-A,B])\n",
    "print(space)\n",
    "ns = null_space(space)\n",
    "print(ns)"
   ]
  },
  {
   "cell_type": "code",
   "execution_count": 326,
   "id": "9e964288",
   "metadata": {},
   "outputs": [
    {
     "name": "stdout",
     "output_type": "stream",
     "text": [
      "M1= [[-0.47163026-0.29931513j  0.03485599+0.14175242j]\n",
      " [-0.04773465+0.12824525j  0.08238075+0.23004205j]\n",
      " [ 0.0805106 +0.1759799j   0.3124228 +0.14766129j]\n",
      " [ 0.2564905 +0.09546931j  0.46008409-0.16476151j]]\n",
      "-D1= [[ 0.72321073-0.04406988j -0.09422765+0.12314561j]\n",
      " [-0.08689451-0.15611117j  0.72498212-0.10538984j]]\n",
      "M2= [[-0.47163026+0.29931513j  0.03485599-0.14175242j]\n",
      " [-0.04773465-0.12824525j  0.08238075-0.23004205j]\n",
      " [ 0.0805106 -0.1759799j   0.3124228 -0.14766129j]\n",
      " [ 0.2564905 -0.09546931j  0.46008409+0.16476151j]]\n",
      "-D2= [[ 0.72321073+0.04406988j -0.09422765-0.12314561j]\n",
      " [-0.08689451+0.15611117j  0.72498212+0.10538984j]]\n",
      "M3= [[-0.34619325+0.15014994j  0.07571395-0.03188855j]\n",
      " [ 0.03496254-0.03444648j  0.11463084-0.03956951j]\n",
      " [ 0.10437155-0.03393042j  0.26883119+0.03549182j]\n",
      " [ 0.24267353+0.0365107j   0.50217057+0.33981482j]]\n",
      "-D3= [[ 0.87749898+0.01144688j -0.0686856 -0.05150636j]\n",
      " [-0.10248761+0.04784261j  0.72800717-0.00047443j]]\n",
      "M4= [[-0.34619325-0.15014994j  0.07571395+0.03188855j]\n",
      " [ 0.03496254+0.03444648j  0.11463084+0.03956951j]\n",
      " [ 0.10437155+0.03393042j  0.26883119-0.03549182j]\n",
      " [ 0.24267353-0.0365107j   0.50217057-0.33981482j]]\n",
      "-D4= [[ 0.87749898-0.01144688j -0.0686856 +0.05150636j]\n",
      " [-0.10248761-0.04784261j  0.72800717+0.00047443j]]\n"
     ]
    }
   ],
   "source": [
    "from scipy.linalg import null_space\n",
    "\n",
    "eigen_lst = [complex(1,-1),complex(1,1),complex(2,1),complex(2,-1)]\n",
    "M = []\n",
    "D = []\n",
    "for i in range(4):\n",
    "    space = np.block([eigen_lst[i]*np.identity(4)-A,B])\n",
    "    ns = null_space(space)\n",
    "    M.append(ns[:4,:])\n",
    "    D.append(ns[4:,:])\n",
    "    print('M'+str(i+1)+'=',ns[:4,:])\n",
    "    print('-D'+str(i+1)+'=',ns[4:,:])\n"
   ]
  },
  {
   "cell_type": "markdown",
   "id": "4ccc5db5",
   "metadata": {},
   "source": [
    "Since $\\begin{bmatrix} M_j\\\\-D_j\\end{bmatrix} $is a basis, there exists a nonzero $m \\times 1$ vector $a_j$ s.t.\n",
    "$$ \\begin{bmatrix}M_j\\\\-D_j\\end{bmatrix}a_j = \\begin{bmatrix}v_j\\\\-Fv_j\\end{bmatrix}$$"
   ]
  },
  {
   "cell_type": "markdown",
   "id": "14c26201",
   "metadata": {},
   "source": [
    "Combining the relations $-D_ja_j = -Fv_j$ and $M_ja_j = v_j$, we have\n",
    "$$ FM_ja_j = D_ja_j$$"
   ]
  },
  {
   "cell_type": "code",
   "execution_count": 327,
   "id": "4e4c6269",
   "metadata": {},
   "outputs": [
    {
     "name": "stdout",
     "output_type": "stream",
     "text": [
      "[[ 0.03485599+0.14175242j -0.47163026+0.29931513j  0.07571395-0.03188855j\n",
      "  -0.34619325-0.15014994j]\n",
      " [ 0.08238075+0.23004205j -0.04773465-0.12824525j  0.11463084-0.03956951j\n",
      "   0.03496254+0.03444648j]\n",
      " [ 0.3124228 +0.14766129j  0.0805106 -0.1759799j   0.26883119+0.03549182j\n",
      "   0.10437155+0.03393042j]\n",
      " [ 0.46008409-0.16476151j  0.2564905 -0.09546931j  0.50217057+0.33981482j\n",
      "   0.24267353-0.0365107j ]]\n"
     ]
    }
   ],
   "source": [
    "a1 = np.array([[0,1]])\n",
    "a2 = np.array([[1,0]])\n",
    "a3 = np.array([[0,1]])\n",
    "a4 = np.array([[1,0]])\n",
    "a_lst = [a1,a2,a3,a4]\n",
    "V = np.block([[M[i]@a_lst[i].T for i in range(4)]])##M_ja_j\n",
    "print(V)"
   ]
  },
  {
   "cell_type": "markdown",
   "id": "bf73ccd0",
   "metadata": {},
   "source": [
    "$$ W = D_ja_j$$\n",
    "$$ FV = W$$"
   ]
  },
  {
   "cell_type": "code",
   "execution_count": 328,
   "id": "754c72d4",
   "metadata": {},
   "outputs": [
    {
     "name": "stdout",
     "output_type": "stream",
     "text": [
      "[[ 0.09422765-0.12314561j -0.72321073-0.04406988j  0.0686856 +0.05150636j\n",
      "  -0.87749898+0.01144688j]\n",
      " [-0.72498212+0.10538984j  0.08689451-0.15611117j -0.72800717+0.00047443j\n",
      "   0.10248761+0.04784261j]]\n"
     ]
    }
   ],
   "source": [
    "W = np.block([[-D[i]@a_lst[i].T for i in range(4)]])\n",
    "print(W)"
   ]
  },
  {
   "cell_type": "code",
   "execution_count": 329,
   "id": "aff10324",
   "metadata": {},
   "outputs": [
    {
     "name": "stdout",
     "output_type": "stream",
     "text": [
      "[[ 2.63063045 -0.16486867j -6.27512366+13.0207129j\n",
      "   7.83301688-10.5569111j  -2.38649752 +3.54059699j]\n",
      " [-0.86648044 +0.46904395j  0.2247396  -0.20292617j\n",
      "  -1.12991246 +0.52483833j -0.63063045 +0.16486867j]]\n"
     ]
    }
   ],
   "source": [
    "F = W@np.linalg.inv(V)\n",
    "print(F)"
   ]
  },
  {
   "cell_type": "markdown",
   "id": "3ffc604b",
   "metadata": {},
   "source": [
    "### 2) Consider the system $\\dot x = \\begin{bmatrix} 0&1\\\\1&1\\end{bmatrix} x + \\begin{bmatrix} 1\\\\0 \\end{bmatrix} u.$ and the performance indices $J_1, J_2$ given by\n",
    "$$\\large J_1 = \\int_0^\\infty (x_1^2+x_2^2+u^2)dt ~~~~\\text{and} ~~~ J_2 = \\int_0^\\infty (900(x_1^2+x_2^2)+u^2)dt$$"
   ]
  },
  {
   "cell_type": "markdown",
   "id": "989477d9",
   "metadata": {},
   "source": [
    "The generalized format of quadratic cost is \n",
    "$$J(u) = \\int_0^\\infty [z^\\top Qz+u^\\top Ru]dt,$$\n",
    "where $z = Mx$.\n",
    "If we try to minimize $J_1$, then $R = \\begin{bmatrix} 1&0\\\\0&1\\end{bmatrix}$, $Q = \\begin{bmatrix} 1&0\\\\0&1\\end{bmatrix}$, $M = 1$."
   ]
  },
  {
   "cell_type": "markdown",
   "id": "25dbcd4b",
   "metadata": {},
   "source": [
    "The optimal control $u^*$ is given by \n",
    "$$ u^* = F^*x = -R^{-1}B^\\top Sx,$$\n",
    "where S denotes the symmetric positive definite solution of the algebraic Riccati equation\n",
    "$$ A^\\top S + SA -SBR^{-1}B^\\top S + M^\\top QM = 0 $$"
   ]
  },
  {
   "cell_type": "code",
   "execution_count": 110,
   "id": "cbc88870",
   "metadata": {},
   "outputs": [
    {
     "name": "stdout",
     "output_type": "stream",
     "text": [
      "[[ 3.73205081  6.46410162]\n",
      " [ 6.46410162 13.92820323]]\n"
     ]
    }
   ],
   "source": [
    "R = 1\n",
    "M = 1\n",
    "Q = np.identity(2)\n",
    "A = np.array([[0,1],[1,1]])\n",
    "B = np.array([[1,0]])\n",
    "import scipy.linalg as sl\n",
    "S = sl.solve_continuous_are(A,B.T,Q,R)\n",
    "print(S)"
   ]
  },
  {
   "cell_type": "code",
   "execution_count": 103,
   "id": "b9f151c0",
   "metadata": {},
   "outputs": [
    {
     "name": "stdout",
     "output_type": "stream",
     "text": [
      "[[ 1.00000000e+00  1.00000000e+00]\n",
      " [ 5.68051686e-01  1.09141718e+00]\n",
      " [ 1.89004685e-01  1.16672666e+00]\n",
      " ...\n",
      " [ 2.69391416e-10 -1.34669925e-10]\n",
      " [ 2.60746821e-10 -1.30348821e-10]\n",
      " [ 2.51973167e-10 -1.25963203e-10]]\n"
     ]
    }
   ],
   "source": [
    "n = 1000\n",
    "t = np.linspace(0,50,n)\n",
    "\n",
    "def RHS(x, t):\n",
    "    \n",
    "    A = np.array([[0,1],[1,1]])\n",
    "    B = np.array([[1,0]])\n",
    "    Q = np.identity(2)\n",
    "    R = 1\n",
    "    S = sl.solve_continuous_are(A,B.T,Q,R)\n",
    "    \n",
    "    dxdt = (A-B.T@B@S)@x\n",
    "    return dxdt\n",
    "\n",
    "from scipy.integrate import odeint\n",
    "\n",
    "x0 = np.array([1,1])\n",
    "\n",
    "sol = odeint(RHS, x0, t)\n",
    "\n",
    "print(sol)"
   ]
  },
  {
   "cell_type": "code",
   "execution_count": 104,
   "id": "b380ce9d",
   "metadata": {},
   "outputs": [
    {
     "data": {
      "image/png": "[encoded data removed]",
      "text/plain": [
       "<Figure size 432x288 with 2 Axes>"
      ]
     },
     "metadata": {
      "needs_background": "light"
     },
     "output_type": "display_data"
    }
   ],
   "source": [
    "import matplotlib.pyplot as plt\n",
    "\n",
    "%matplotlib inline\n",
    "\n",
    "fig, axs = plt.subplots(2, 1)\n",
    "axs[0].plot(t,sol[:,0])\n",
    "axs[0].set_ylabel('x_1')\n",
    "axs[0].set_xlabel('time')\n",
    "axs[1].plot(t,sol[:,1])\n",
    "axs[1].set_ylabel('x_2')\n",
    "axs[1].set_xlabel('time')\n",
    "\n",
    "plt.show()"
   ]
  },
  {
   "cell_type": "code",
   "execution_count": 105,
   "id": "93f79fb7",
   "metadata": {},
   "outputs": [],
   "source": [
    "u = [-B@S@sol[i,:] for i in range(n)]\n",
    "u = np.vstack(u)\n",
    "#print(np.vstack(u))"
   ]
  },
  {
   "cell_type": "code",
   "execution_count": 106,
   "id": "77f3fdfb",
   "metadata": {},
   "outputs": [
    {
     "data": {
      "image/png": "[encoded data removed]",
      "text/plain": [
       "<Figure size 432x288 with 1 Axes>"
      ]
     },
     "metadata": {
      "needs_background": "light"
     },
     "output_type": "display_data"
    }
   ],
   "source": [
    "plt.figure()\n",
    "plt.plot(t, u, linewidth = 2.0)\n",
    "plt.title('Controller', fontsize = 20)\n",
    "plt.xlabel('time', fontsize = 16)\n",
    "plt.show()"
   ]
  },
  {
   "cell_type": "markdown",
   "id": "2e3c6ca8",
   "metadata": {},
   "source": [
    "Then we minimize $$J_2 = \\int_0^\\infty (900(x_1^2+x_2^2)+u^2)dt$$\n",
    "R = 1, M = 30, and $Q = \\begin{bmatrix} 1&0\\\\0&1 \\end{bmatrix}$"
   ]
  },
  {
   "cell_type": "code",
   "execution_count": 113,
   "id": "66692347",
   "metadata": {},
   "outputs": [
    {
     "name": "stdout",
     "output_type": "stream",
     "text": [
      "[[  7.97284012  16.7830898 ]\n",
      " [ 16.7830898  109.05296177]]\n"
     ]
    }
   ],
   "source": [
    "R = 1\n",
    "M = 30\n",
    "Q = np.identity(2)\n",
    "Q = M*Q\n",
    "A = np.array([[0,1],[1,1]])\n",
    "B = np.array([[1,0]])\n",
    "import scipy.linalg as sl\n",
    "S = sl.solve_continuous_are(A,B.T,Q,R)\n",
    "print(S)"
   ]
  },
  {
   "cell_type": "code",
   "execution_count": 114,
   "id": "9ed58737",
   "metadata": {},
   "outputs": [
    {
     "name": "stdout",
     "output_type": "stream",
     "text": [
      "[[ 1.00000000e+00  1.00000000e+00]\n",
      " [-9.14152694e-03  1.07550149e+00]\n",
      " [-7.20838705e-01  1.11102659e+00]\n",
      " ...\n",
      " [ 6.94477828e-11 -2.90306976e-11]\n",
      " [ 6.65771896e-11 -2.78372996e-11]\n",
      " [ 6.37561644e-11 -2.66643243e-11]]\n"
     ]
    }
   ],
   "source": [
    "n = 1000\n",
    "t = np.linspace(0,50,n)\n",
    "\n",
    "def RHS(x, t):\n",
    "    \n",
    "    R = 1\n",
    "    M = 30\n",
    "    Q = np.identity(2)\n",
    "    Q = M*Q\n",
    "    A = np.array([[0,1],[1,1]])\n",
    "    B = np.array([[1,0]])\n",
    "    S = sl.solve_continuous_are(A,B.T,Q,R)\n",
    "    \n",
    "    dxdt = (A-B.T@B@S)@x\n",
    "    return dxdt\n",
    "\n",
    "from scipy.integrate import odeint\n",
    "\n",
    "x0 = np.array([1,1])\n",
    "\n",
    "sol = odeint(RHS, x0, t)\n",
    "\n",
    "print(sol)"
   ]
  },
  {
   "cell_type": "code",
   "execution_count": 115,
   "id": "be4f441c",
   "metadata": {},
   "outputs": [
    {
     "data": {
      "image/png": "[encoded data removed]",
      "text/plain": [
       "<Figure size 432x288 with 2 Axes>"
      ]
     },
     "metadata": {
      "needs_background": "light"
     },
     "output_type": "display_data"
    }
   ],
   "source": [
    "%matplotlib inline\n",
    "\n",
    "fig, axs = plt.subplots(2, 1)\n",
    "axs[0].plot(t,sol[:,0])\n",
    "axs[0].set_ylabel('x_1')\n",
    "axs[0].set_xlabel('time')\n",
    "axs[1].plot(t,sol[:,1])\n",
    "axs[1].set_ylabel('x_2')\n",
    "axs[1].set_xlabel('time')\n",
    "\n",
    "plt.show()"
   ]
  },
  {
   "cell_type": "code",
   "execution_count": 116,
   "id": "9e8bd277",
   "metadata": {},
   "outputs": [
    {
     "data": {
      "image/png": "[encoded data removed]",
      "text/plain": [
       "<Figure size 432x288 with 1 Axes>"
      ]
     },
     "metadata": {
      "needs_background": "light"
     },
     "output_type": "display_data"
    }
   ],
   "source": [
    "u = [-B@S@sol[i,:] for i in range(n)]\n",
    "u = np.vstack(u)\n",
    "plt.figure()\n",
    "plt.plot(t, u, linewidth = 2.0)\n",
    "plt.title('Controller', fontsize = 20)\n",
    "plt.xlabel('time', fontsize = 16)\n",
    "plt.show()"
   ]
  },
  {
   "cell_type": "markdown",
   "id": "b7366f14",
   "metadata": {},
   "source": [
    "For cost function $J_1$, we have equal weights on requlation of $x \\to 0$ and the regulation of using a controller, while, in the cost function $J_2$, the $Q$ is \"bigger\" than $R$, so the first term dominates. That is we care more about making states back to 0 as soon as possilble no matter how much control we have to use. As it is reflected in the plots, the time taking states back to 0 used by the $J_1$ is longer than that of $J_2$ but the magnintude of control is less than that of $J_2$."
   ]
  },
  {
   "cell_type": "markdown",
   "id": "1f4f5cc2",
   "metadata": {},
   "source": [
    "### 3) Consider the system from problem 4.27:\n",
    "$$\\Large \\dot x = \\begin{bmatrix} 0 & 11 & 0 & 0 \\\\ 1 & 0 & 0 & 0 \\\\ 0 & -1 &0 & 0 \\\\ 0 & 0  & 1 & 0 \\end{bmatrix} x + \\begin{pmatrix} -1 \\\\ 0 \\\\ 1 \\\\ 0 \\end{pmatrix} u.$$\n",
    "\n",
    "In this setup $x_2 \\sim \\theta$ and $x_4 \\sim x$ (we have linearized). "
   ]
  },
  {
   "cell_type": "code",
   "execution_count": 264,
   "id": "6ccc5ca5",
   "metadata": {},
   "outputs": [
    {
     "name": "stdout",
     "output_type": "stream",
     "text": [
      "Eigenvalues are\n",
      " [ 0.          0.         -2.85410197  3.85410197]\n",
      "According Eigenvvectors are\n",
      " [[ 0.00000000e+000  0.00000000e+000  9.36716662e-001 -9.65762749e-001]\n",
      " [ 0.00000000e+000  0.00000000e+000 -3.28200139e-001 -2.50580487e-001]\n",
      " [ 0.00000000e+000  4.00833672e-292 -1.14992436e-001  6.50165692e-002]\n",
      " [ 1.00000000e+000 -1.00000000e+000  4.02902341e-002  1.68694471e-002]]\n"
     ]
    }
   ],
   "source": [
    "A = np.array([[1,11,0,0],[1,0,0,0],[0,-1,0,0],[0,0,1,0]])\n",
    "w,v = np.linalg.eig(A)\n",
    "print('Eigenvalues are\\n', w)\n",
    "print('According Eigenvvectors are\\n', v)\n"
   ]
  },
  {
   "cell_type": "code",
   "execution_count": 265,
   "id": "8306e943",
   "metadata": {},
   "outputs": [
    {
     "name": "stdout",
     "output_type": "stream",
     "text": [
      "[[ 1.00000000e-02  0.00000000e+00  0.00000000e+00  0.00000000e+00]\n",
      " [ 1.00055122e-02  1.00124330e-04 -5.01107728e-07 -2.20273803e-09]\n",
      " [ 1.00220545e-02  2.00357601e-04 -2.00495896e-06 -1.43091182e-08]\n",
      " ...\n",
      " [ 1.18591765e+12  3.57567625e+11 -1.07810695e+11 -3.25061477e+10]\n",
      " [ 1.22595032e+12  3.69637928e+11 -1.11450029e+11 -3.36034480e+10]\n",
      " [ 1.26733435e+12  3.82115684e+11 -1.15212214e+11 -3.47377895e+10]]\n"
     ]
    }
   ],
   "source": [
    "### Plot states with control = 0\n",
    "n = 1000\n",
    "t = np.linspace(0,10,n)\n",
    "\n",
    "def RHS(x, t):\n",
    "    A = np.array([[0,11,0,0],[1,0,0,0],[0,-1,0,0],[0,0,1,0]])\n",
    "    #B = np.array([[-1,0,1,0]])\n",
    "    \n",
    "    dxdt = A@x\n",
    "    return dxdt\n",
    "\n",
    "from scipy.integrate import odeint\n",
    "\n",
    "### Initial state\n",
    "x0 = np.array([0.01, 0, 0,0])\n",
    "\n",
    "sol = odeint(RHS, x0, t)\n",
    "\n",
    "print(sol)"
   ]
  },
  {
   "cell_type": "code",
   "execution_count": 266,
   "id": "e92f33e8",
   "metadata": {},
   "outputs": [
    {
     "data": {
      "image/png": "[encoded data removed]",
      "text/plain": [
       "<Figure size 720x576 with 4 Axes>"
      ]
     },
     "metadata": {
      "needs_background": "light"
     },
     "output_type": "display_data"
    }
   ],
   "source": [
    "%matplotlib inline\n",
    "I = range(4)\n",
    "f, axarray = plt.subplots(2,2,figsize=(10, 8))\n",
    "f.tight_layout()\n",
    "for i,ax in zip(I,axarray.flatten()):\n",
    "    ax.plot(t,sol[:,i])\n",
    "    ax.set_ylabel('State X_'+str(i+1))\n",
    "    ax.set_xlabel('t')"
   ]
  },
  {
   "cell_type": "markdown",
   "id": "725b8a11",
   "metadata": {},
   "source": [
    "Change initial state to $x_0 = [0,0,0,0]^\\top $, then plot the figures of state $x(t)$."
   ]
  },
  {
   "cell_type": "code",
   "execution_count": 267,
   "id": "4fdb9a5f",
   "metadata": {},
   "outputs": [],
   "source": [
    "x0 = np.array([0, 0, 0,0])\n",
    "\n",
    "sol = odeint(RHS, x0, t)"
   ]
  },
  {
   "cell_type": "code",
   "execution_count": 268,
   "id": "670af026",
   "metadata": {},
   "outputs": [
    {
     "data": {
      "image/png": "[encoded data removed]",
      "text/plain": [
       "<Figure size 720x576 with 4 Axes>"
      ]
     },
     "metadata": {
      "needs_background": "light"
     },
     "output_type": "display_data"
    }
   ],
   "source": [
    "%matplotlib inline\n",
    "I = range(4)\n",
    "f, axarray = plt.subplots(2,2,figsize=(10, 8))\n",
    "f.tight_layout()\n",
    "for i,ax in zip(I,axarray.flatten()):\n",
    "    ax.plot(t,sol[:,i])\n",
    "    ax.set_ylabel('State X_'+str(i+1))\n",
    "    ax.set_xlabel('t')"
   ]
  },
  {
   "cell_type": "markdown",
   "id": "2802aa6d",
   "metadata": {},
   "source": [
    "Without surprise, those are horizontal lines since $[0,0,0,0]$ is stable state and without control u, the system will maintain in the state forever."
   ]
  },
  {
   "cell_type": "markdown",
   "id": "606c3b81",
   "metadata": {},
   "source": [
    "Add a unit u into the system."
   ]
  },
  {
   "cell_type": "code",
   "execution_count": 269,
   "id": "d0699e67",
   "metadata": {},
   "outputs": [],
   "source": [
    "def RHS(x, t):\n",
    "    A = np.array([[0,11,0,0],[1,0,0,0],[0,-1,0,0],[0,0,1,0]])\n",
    "    B = np.array([-1,0,1,0])\n",
    "    u = 1\n",
    "    dxdt = A@x + B.T*u\n",
    "    return dxdt"
   ]
  },
  {
   "cell_type": "code",
   "execution_count": 270,
   "id": "76757b16",
   "metadata": {},
   "outputs": [
    {
     "name": "stdout",
     "output_type": "stream",
     "text": [
      "[[ 0.00000000e+00  0.00000000e+00  0.00000000e+00  0.00000000e+00]\n",
      " [-1.00118638e-02 -5.01049100e-05  1.00101785e-02  5.01005843e-05]\n",
      " [-2.00347489e-02 -2.00474543e-04  2.00213590e-02  2.00407324e-04]\n",
      " ...\n",
      " [-3.57565737e+13 -1.07810126e+13  3.25059761e+12  9.80092056e+11]\n",
      " [-3.69635976e+13 -1.11449440e+13  3.36032705e+12  1.01317673e+12]\n",
      " [-3.82113667e+13 -1.15211605e+13  3.47376060e+12  1.04737823e+12]]\n"
     ]
    }
   ],
   "source": [
    "x0 = np.array([0, 0, 0,0])\n",
    "\n",
    "sol = odeint(RHS, x0, t)\n",
    "\n",
    "print(sol)"
   ]
  },
  {
   "cell_type": "code",
   "execution_count": 271,
   "id": "ed85f707",
   "metadata": {},
   "outputs": [
    {
     "data": {
      "image/png": "[encoded data removed]",
      "text/plain": [
       "<Figure size 720x576 with 4 Axes>"
      ]
     },
     "metadata": {
      "needs_background": "light"
     },
     "output_type": "display_data"
    }
   ],
   "source": [
    "%matplotlib inline\n",
    "I = range(4)\n",
    "f, axarray = plt.subplots(2,2,figsize=(10, 8))\n",
    "f.tight_layout()\n",
    "for i,ax in zip(I,axarray.flatten()):\n",
    "    ax.plot(t,sol[:,i])\n",
    "    ax.set_ylabel('State X_'+str(i+1))\n",
    "    ax.set_xlabel('t')"
   ]
  },
  {
   "cell_type": "markdown",
   "id": "c9a62d90",
   "metadata": {},
   "source": [
    "As we can see from the plots above, adding a unit controller will change the states gradually. But it is not able to make the system stable."
   ]
  },
  {
   "cell_type": "markdown",
   "id": "e2b53280",
   "metadata": {},
   "source": [
    "First, we need to check controllability of this system.\n",
    "$$ \\mathcal{C} = \\begin{bmatrix} B& AB&A^2B&A^3B\\end{bmatrix}$$"
   ]
  },
  {
   "cell_type": "code",
   "execution_count": 272,
   "id": "58c7acb5",
   "metadata": {},
   "outputs": [
    {
     "name": "stdout",
     "output_type": "stream",
     "text": [
      "[[ -1   0 -11   0]\n",
      " [  0  -1   0 -11]\n",
      " [  1   0   1   0]\n",
      " [  0   1   0   1]]\n"
     ]
    }
   ],
   "source": [
    "A = np.array([[0, 11, 0, 0], \n",
    "    [1 , 0 ,0, 0],\n",
    "    [0, -1, 0, 0],\n",
    "    [0,0,1,0]])\n",
    "B = np.array([[-1,0,1,0]])\n",
    "C = np.block([[B.T,A@B.T,A@A@B.T,A@A@A@B.T]])\n",
    "print(C)"
   ]
  },
  {
   "cell_type": "code",
   "execution_count": 273,
   "id": "0b00c54b",
   "metadata": {},
   "outputs": [
    {
     "name": "stdout",
     "output_type": "stream",
     "text": [
      "4\n"
     ]
    }
   ],
   "source": [
    "rank_C = np.linalg.matrix_rank(C)\n",
    "print(rank_C)"
   ]
  },
  {
   "cell_type": "markdown",
   "id": "3a1d42cf",
   "metadata": {},
   "source": [
    "Hence the rank of controllability matrix is 4, (A, B) is controllable. Therefore, eigenvalues of A + BF can be assigned to arbitary."
   ]
  },
  {
   "cell_type": "markdown",
   "id": "3c0d882f",
   "metadata": {},
   "source": [
    "#### Assigning eigenvalues and eigenvectors\n",
    "\n",
    "$[\\lambda_j I - (A+BF)] v_j = 0$, which can be written as \n",
    "$$ [\\lambda_j I - A, B)] \\begin{bmatrix}M_j\\\\-D_j\\end{bmatrix} = 0$$,\n",
    "where $M_j = v_j$ and $D_j = -Fv_j$, and $\\begin{bmatrix}M_j\\\\-D_j\\end{bmatrix}$ is in null space of $[\\lambda_j I - A,B)]$.\n",
    "\n",
    "\n",
    "$$ W = D_ja_j$$\n",
    "$$ FV = W$$\n"
   ]
  },
  {
   "cell_type": "code",
   "execution_count": 317,
   "id": "6df30538",
   "metadata": {},
   "outputs": [
    {
     "name": "stdout",
     "output_type": "stream",
     "text": [
      "M1= [[-0.11108499]\n",
      " [ 0.0111085 ]\n",
      " [ 0.09997649]\n",
      " [-0.00999765]]\n",
      "-D1= [[0.9886564]]\n",
      "M2= [[ 0.79827173]\n",
      " [-0.26609058]\n",
      " [ 0.08869686]\n",
      " [-0.02956562]]\n",
      "-D2= [[0.53218116]]\n",
      "M3= [[ 0.06154575]\n",
      " [-0.06154575]\n",
      " [ 0.55391171]\n",
      " [-0.55391171]]\n",
      "-D3= [[0.61545745]]\n",
      "M4= [[ 0.01113019]\n",
      " [-0.02226039]\n",
      " [ 0.43407753]\n",
      " [-0.86815506]]\n",
      "-D4= [[0.23929915]]\n"
     ]
    }
   ],
   "source": [
    "eigen_lst = [-10,-3,-1,-1/2]\n",
    "M = []\n",
    "D = []\n",
    "for i in range(4):\n",
    "    space = np.block([eigen_lst[i]*np.identity(4)-A,B.T])\n",
    "    ns = null_space(space)\n",
    "    M.append(ns[:4,:])\n",
    "    D.append(ns[4:,:])\n",
    "    print('M'+str(i+1)+'=',ns[:4,:])\n",
    "    print('-D'+str(i+1)+'=',ns[4:,:])"
   ]
  },
  {
   "cell_type": "code",
   "execution_count": 318,
   "id": "fbd3eb26",
   "metadata": {},
   "outputs": [
    {
     "name": "stdout",
     "output_type": "stream",
     "text": [
      "[[ 0.55542494  1.59654347 -0.12309149  0.0055651 ]\n",
      " [-0.05554249 -0.53218116  0.12309149 -0.01113019]\n",
      " [-0.49988245  0.17739372 -1.10782342  0.21703877]\n",
      " [ 0.04998824 -0.05913124  1.10782342 -0.43407753]]\n"
     ]
    }
   ],
   "source": [
    "a1 = np.array([[-5]])\n",
    "a2 = np.array([[2]])\n",
    "a3 = np.array([[-2]])\n",
    "a4 = np.array([[0.5]])\n",
    "a_lst = [a1,a2,a3,a4]\n",
    "V = np.block([[M[i]*a_lst[i].T for i in range(4)]])##M_ja_j\n",
    "print(V)"
   ]
  },
  {
   "cell_type": "code",
   "execution_count": 319,
   "id": "a13230a6",
   "metadata": {},
   "outputs": [
    {
     "name": "stdout",
     "output_type": "stream",
     "text": [
      "[[ 4.94328199 -1.06436231  1.23091491 -0.11964958]]\n"
     ]
    }
   ],
   "source": [
    "W = np.block([[-D[i]*a_lst[i].T for i in range(4)]])\n",
    "print(W)"
   ]
  },
  {
   "cell_type": "code",
   "execution_count": 320,
   "id": "1ce49e5b",
   "metadata": {},
   "outputs": [
    {
     "name": "stdout",
     "output_type": "stream",
     "text": [
      "[[19.65 62.5   5.15  1.5 ]]\n"
     ]
    }
   ],
   "source": [
    "F_1 = W@np.linalg.inv(V)\n",
    "print(F_1)"
   ]
  },
  {
   "cell_type": "markdown",
   "id": "61c19637",
   "metadata": {},
   "source": [
    "$u = Fx$, and we find the control u."
   ]
  },
  {
   "cell_type": "code",
   "execution_count": 283,
   "id": "9857d40b",
   "metadata": {},
   "outputs": [
    {
     "data": {
      "text/plain": [
       "(array([18.53647251+0.j        , -0.39657865+0.30369053j,\n",
       "        -0.39657865-0.30369053j, -3.24331521+0.j        ]),\n",
       " array([[-0.71642839+0.j        , -0.00451175-0.01026784j,\n",
       "         -0.00451175+0.01026784j, -0.95444708+0.j        ],\n",
       "        [-0.03864966+0.j        , -0.00532653+0.02181214j,\n",
       "         -0.00532653-0.02181214j,  0.29428132+0.j        ],\n",
       "        [ 0.69557779+0.j        ,  0.35466957-0.27159754j,\n",
       "          0.35466957+0.27159754j,  0.04709981+0.j        ],\n",
       "        [ 0.03752482+0.j        , -0.8943234 +0.j        ,\n",
       "         -0.8943234 -0.j        , -0.01452212+0.j        ]]))"
      ]
     },
     "execution_count": 283,
     "metadata": {},
     "output_type": "execute_result"
    }
   ],
   "source": [
    "np.linalg.eig(A+B.T@F_1)"
   ]
  },
  {
   "cell_type": "markdown",
   "id": "c4a0947c",
   "metadata": {},
   "source": [
    "#### Use the LQR formulation to determine a stabilizing linear state feedback control law u = Fx + r."
   ]
  },
  {
   "cell_type": "code",
   "execution_count": 221,
   "id": "b08e9395",
   "metadata": {},
   "outputs": [
    {
     "name": "stdout",
     "output_type": "stream",
     "text": [
      "[[ 17.83793941  57.39207669   7.07763489   3.39093134]\n",
      " [ 57.39207669 186.49514397  22.48276331  10.76030452]\n",
      " [  7.07763489  22.48276331   4.67308448   2.39093134]\n",
      " [  3.39093134  10.76030452   2.39093134   2.40455041]]\n"
     ]
    }
   ],
   "source": [
    "### Choose equal weights for cost of state not being 0 and cost of controller not being 0.\n",
    "R = 1\n",
    "M = 1\n",
    "Q = np.identity(4)\n",
    "A = np.array([[0, 11, 0, 0], \n",
    "    [1 , 0 ,0, 0],\n",
    "    [0, -1, 0, 0],\n",
    "    [0,0,1,0]])\n",
    "B = np.array([[-1,0,1,0]])\n",
    "import scipy.linalg as sl\n",
    "S = sl.solve_continuous_are(A,B.T,Q,R)\n",
    "print(S)"
   ]
  },
  {
   "cell_type": "markdown",
   "id": "464e7d99",
   "metadata": {},
   "source": [
    "$F = -R^{-1}B^\\top S$"
   ]
  },
  {
   "cell_type": "code",
   "execution_count": 222,
   "id": "c7bfd6bc",
   "metadata": {},
   "outputs": [
    {
     "name": "stdout",
     "output_type": "stream",
     "text": [
      "[[10.76030452 34.90931338  2.40455041  1.        ]]\n"
     ]
    }
   ],
   "source": [
    "F_2 = -1*B@S\n",
    "print(F_2)"
   ]
  },
  {
   "cell_type": "markdown",
   "id": "8b8c4d7a",
   "metadata": {},
   "source": [
    "#### Let $x(0)^\\top$ = [0.5, 0, 0, 0]. Repeat (b) for the closed-loop system derived in (c) and (d)."
   ]
  },
  {
   "cell_type": "code",
   "execution_count": 223,
   "id": "8b821b16",
   "metadata": {},
   "outputs": [
    {
     "name": "stdout",
     "output_type": "stream",
     "text": [
      "[[ 5.00000000e-01  0.00000000e+00  0.00000000e+00  0.00000000e+00]\n",
      " [ 3.98687477e-01  8.97487206e-03  1.02244746e-01  1.04147259e-03]\n",
      " [ 3.09348687e-01  1.60433398e-02  1.94117693e-01  4.02468563e-03]\n",
      " ...\n",
      " [-3.33061782e-08  2.78554497e-08 -9.70359139e-08 -1.02872098e-07]\n",
      " [-3.27392435e-08  2.71943167e-08 -9.20839717e-08 -1.04775650e-07]\n",
      " [-3.21779467e-08  2.65441769e-08 -8.72537558e-08 -1.06585230e-07]]\n"
     ]
    }
   ],
   "source": [
    "### Closed-loop system derived in (d)\n",
    "n = 1000\n",
    "t = np.linspace(0,20,n)\n",
    "\n",
    "def RHS(x, t):\n",
    "    \n",
    "    A = np.array([[0, 11, 0, 0], \n",
    "    [1 , 0 ,0, 0],\n",
    "    [0, -1, 0, 0],\n",
    "    [0,0,1,0]])\n",
    "    B = np.array([[-1,0,1,0]])\n",
    "    Q = np.identity(4)\n",
    "    R = 1\n",
    "    S = sl.solve_continuous_are(A,B.T,Q,R)\n",
    "    \n",
    "    dxdt = (A-B.T@B@S)@x\n",
    "    return dxdt\n",
    "\n",
    "from scipy.integrate import odeint\n",
    "\n",
    "x0 = np.array([0.5,0,0,0])\n",
    "\n",
    "sol = odeint(RHS, x0, t)\n",
    "\n",
    "print(sol)"
   ]
  },
  {
   "cell_type": "code",
   "execution_count": 224,
   "id": "0082b465",
   "metadata": {},
   "outputs": [
    {
     "data": {
      "image/png": "[encoded data removed]",
      "text/plain": [
       "<Figure size 720x576 with 4 Axes>"
      ]
     },
     "metadata": {
      "needs_background": "light"
     },
     "output_type": "display_data"
    }
   ],
   "source": [
    "%matplotlib inline\n",
    "I = range(4)\n",
    "f, axarray = plt.subplots(2,2,figsize=(10, 8))\n",
    "f.tight_layout()\n",
    "for i,ax in zip(I,axarray.flatten()):\n",
    "    ax.plot(t,sol[:,i])\n",
    "    ax.set_ylabel('State X_'+str(i+1))\n",
    "    ax.set_xlabel('t')"
   ]
  },
  {
   "cell_type": "code",
   "execution_count": 321,
   "id": "7b958b4d",
   "metadata": {},
   "outputs": [
    {
     "name": "stdout",
     "output_type": "stream",
     "text": [
      "[[ 5.00000000e-01  0.00000000e+00  0.00000000e+00  0.00000000e+00]\n",
      " [ 4.07299000e-01  4.53177720e-03  9.29355561e-02  4.74023435e-04]\n",
      " [ 3.25131978e-01  8.18926882e-03  1.75746126e-01  1.82680046e-03]\n",
      " ...\n",
      " [-1.77878834e-04  3.67722918e-04 -7.29623205e-03  1.47001514e-02]\n",
      " [-1.77050191e-04  3.65946501e-04 -7.26034064e-03  1.46272959e-02]\n",
      " [-1.76225088e-04  3.64178359e-04 -7.22462309e-03  1.45547989e-02]]\n"
     ]
    }
   ],
   "source": [
    "### Closed-loop system derived in (c)\n",
    "\n",
    "def RHS(x, t):\n",
    "    \n",
    "    A = np.array([[0, 11, 0, 0], \n",
    "    [1 , 0 ,0, 0],\n",
    "    [0, -1, 0, 0],\n",
    "    [0,0,1,0]])\n",
    "    B = np.array([[-1,0,1,0]])\n",
    "    \n",
    "    dxdt = (A+B.T@F_1)@x\n",
    "    return dxdt\n",
    "\n",
    "from scipy.integrate import odeint\n",
    "\n",
    "x0 = np.array([0.5,0,0,0])\n",
    "\n",
    "sol = odeint(RHS, x0, t)\n",
    "\n",
    "print(sol)"
   ]
  },
  {
   "cell_type": "code",
   "execution_count": 322,
   "id": "549c31d3",
   "metadata": {},
   "outputs": [
    {
     "data": {
      "image/png": "[encoded data removed]",
      "text/plain": [
       "<Figure size 720x576 with 4 Axes>"
      ]
     },
     "metadata": {
      "needs_background": "light"
     },
     "output_type": "display_data"
    }
   ],
   "source": [
    "%matplotlib inline\n",
    "I = range(4)\n",
    "f, axarray = plt.subplots(2,2,figsize=(10, 8))\n",
    "f.tight_layout()\n",
    "for i,ax in zip(I,axarray.flatten()):\n",
    "    ax.plot(t,sol[:,i])\n",
    "    ax.set_ylabel('State X_'+str(i+1))\n",
    "    ax.set_xlabel('t')"
   ]
  },
  {
   "cell_type": "markdown",
   "id": "7676f673",
   "metadata": {},
   "source": [
    "### 4) Suppose that $A= \\begin{bmatrix}0&1&0\\\\2&-1&0\\\\1&0&0 \\end{bmatrix}$,$B=\\begin{bmatrix}0&0\\\\1&1\\\\0&1 \\end{bmatrix}$. $C = \\begin{bmatrix} 1& 1&0 \\end{bmatrix}$. Show that (A,B) is controllable, that A is not asymptotically stable, and that (A,C) is not observable. Consider the feedback control u=Fx, with $F=\\begin{bmatrix}3&7&5\\\\-5&-6&-4 \\end{bmatrix}$. Show that this feedback control both i) stabilizes the system and ii) makes the system observable. This exercise shows that observability (or unobservability) are not preserved under feedback control."
   ]
  },
  {
   "cell_type": "code",
   "execution_count": 250,
   "id": "08bbb178",
   "metadata": {},
   "outputs": [
    {
     "name": "stdout",
     "output_type": "stream",
     "text": [
      "[[ 0  0  1  1 -1 -1]\n",
      " [ 1  1 -1 -1  3  3]\n",
      " [ 0  1  0  0  1  1]]\n"
     ]
    }
   ],
   "source": [
    "A = np.array([[0, 1, 0], \n",
    "    [2 , -1 ,0],\n",
    "    [1, 0, 0]])\n",
    "B = np.array([[0,0],[1,1],[0,1]])\n",
    "C = np.block([[B,A@B,A@A@B]])\n",
    "print(C)"
   ]
  },
  {
   "cell_type": "code",
   "execution_count": 251,
   "id": "a40c890a",
   "metadata": {},
   "outputs": [
    {
     "name": "stdout",
     "output_type": "stream",
     "text": [
      "3\n"
     ]
    }
   ],
   "source": [
    "rank_C = np.linalg.matrix_rank(C)\n",
    "print(rank_C)"
   ]
  },
  {
   "cell_type": "markdown",
   "id": "77ff1fe1",
   "metadata": {},
   "source": [
    "Since the rank of controllability matrix is 3, the system is controllable."
   ]
  },
  {
   "cell_type": "code",
   "execution_count": 253,
   "id": "73551802",
   "metadata": {},
   "outputs": [
    {
     "name": "stdout",
     "output_type": "stream",
     "text": [
      "Eigenvalues of matrix A are:  [ 0. -2.  1.]\n"
     ]
    }
   ],
   "source": [
    "w,v = np.linalg.eig(A)\n",
    "print('Eigenvalues of matrix A are: ',w)"
   ]
  },
  {
   "cell_type": "markdown",
   "id": "0eba08c4",
   "metadata": {},
   "source": [
    "As we can see that not all eigenvalues of matrix A are less or equal to 0, i.e. one of eigenvalue = 1, A is not asymptotically stable."
   ]
  },
  {
   "cell_type": "markdown",
   "id": "3dfe017d",
   "metadata": {},
   "source": [
    "The observability matrix is:\n",
    "$$\\mathcal{O} = \\begin{bmatrix}C^T &(CA)^T &(CA^2)^T  \\\\ \\end{bmatrix}$$"
   ]
  },
  {
   "cell_type": "code",
   "execution_count": 254,
   "id": "ef98516f",
   "metadata": {},
   "outputs": [
    {
     "name": "stdout",
     "output_type": "stream",
     "text": [
      "[[1 2 0]\n",
      " [1 0 2]\n",
      " [0 0 0]]\n"
     ]
    }
   ],
   "source": [
    "C = np.array([[1,1,0]])\n",
    "O = np.block([[C.T,(C@A).T,(C@A@A).T]])\n",
    "print(O)"
   ]
  },
  {
   "cell_type": "code",
   "execution_count": 255,
   "id": "3d81c7c8",
   "metadata": {},
   "outputs": [
    {
     "name": "stdout",
     "output_type": "stream",
     "text": [
      "2\n"
     ]
    }
   ],
   "source": [
    "rank_O = np.linalg.matrix_rank(O)\n",
    "print(rank_O)"
   ]
  },
  {
   "cell_type": "markdown",
   "id": "438ba097",
   "metadata": {},
   "source": [
    "Since the rank of observability matrix is 2, which is less than 3, the system is not observable."
   ]
  },
  {
   "cell_type": "markdown",
   "id": "c9e733d7",
   "metadata": {},
   "source": [
    "Closed-loop system:\n",
    "$$ \\dot x = (A + BF) x.$$"
   ]
  },
  {
   "cell_type": "code",
   "execution_count": 257,
   "id": "67e535c3",
   "metadata": {},
   "outputs": [
    {
     "name": "stdout",
     "output_type": "stream",
     "text": [
      "Eigenvalues of matrix A + BF are:  [-1.+1.j -1.-1.j -2.+0.j]\n"
     ]
    }
   ],
   "source": [
    "F = np.array([[3,7,5],[-5,-6,-4]])\n",
    "w,v = np.linalg.eig(A+B@F)\n",
    "print('Eigenvalues of matrix A + BF are: ',w)"
   ]
  },
  {
   "cell_type": "markdown",
   "id": "96309caf",
   "metadata": {},
   "source": [
    "This time, the real part of all eigenvalues are less than 0, the system becomes stable."
   ]
  },
  {
   "cell_type": "code",
   "execution_count": 262,
   "id": "3de100d2",
   "metadata": {},
   "outputs": [
    {
     "name": "stdout",
     "output_type": "stream",
     "text": [
      "3\n"
     ]
    }
   ],
   "source": [
    "A_ = A+B@F\n",
    "O_ = np.block([[C.T,(C@A_).T,(C@A_@A_).T]])\n",
    "rank_O_ = np.linalg.matrix_rank(O_)\n",
    "print(rank_O_)"
   ]
  },
  {
   "cell_type": "markdown",
   "id": "6a23778f",
   "metadata": {},
   "source": [
    "After introducing the controller, the system becomes observable."
   ]
  },
  {
   "cell_type": "markdown",
   "id": "8900fa6e",
   "metadata": {},
   "source": [
    "### 5) Show that if a matrix $A−BF=\\tilde A$  has eigenvalues with strictly negative real part then there exists a δ>0 so that for any ‖E‖<δ we have that Ã +E also has eigenvalues with strictly negative real part. This indicates why feedback controls are able to accommodate some model misspecification."
   ]
  },
  {
   "cell_type": "markdown",
   "id": "a0e19f5d",
   "metadata": {},
   "source": [
    "We note that a matrix 𝑀 has eigenvalues with negative real part if $𝑥^\\top𝑀𝑥<0$ for all 𝑥∈ℝ𝑛 with 𝑥≠0.\n",
    "$$x^\\top(\\tilde A + E)x = x^\\top \\tilde Ax + x^\\top Ex$$"
   ]
  },
  {
   "cell_type": "markdown",
   "id": "f169d7b2",
   "metadata": {},
   "source": [
    "$\\lambda = \\lambda_{max}(\\tilde A) = min \\left|\\frac{ x^\\top \\tilde Ax}{x^\\top x}\\right|$.\n",
    "In order to make $x^\\top(\\tilde A + E)x$ still negative, we need to make sure that the minimum absolute value of $x^\\top \\tilde Ax$ is greater than the maximum absolute value of $x^\\top Ex$."
   ]
  },
  {
   "cell_type": "markdown",
   "id": "6eba70a9",
   "metadata": {},
   "source": [
    "That is $|\\lambda| > max \\left|\\frac{x^\\top Ex}{x^\\top x}\\right|$"
   ]
  },
  {
   "cell_type": "markdown",
   "id": "e6780802",
   "metadata": {},
   "source": [
    "$max \\left|\\frac{x^\\top Ex}{x^\\top x}\\right| \\leq max \\left|\\frac{\\|Ex\\|}{\\|x\\|}\\right| = \\|E\\| = \\delta$"
   ]
  },
  {
   "cell_type": "markdown",
   "id": "b0c3332a",
   "metadata": {},
   "source": [
    "Therefore, there exists a $\\delta > 0$ such that $|\\lambda| > \\delta$ and $\\tilde A + E $ has eigenvalues with strictly negative real part. "
   ]
  },
  {
   "cell_type": "code",
   "execution_count": null,
   "id": "296c5151",
   "metadata": {},
   "outputs": [],
   "source": []
  }
 ],
 "metadata": {
  "kernelspec": {
   "display_name": "Python 3",
   "language": "python",
   "name": "python3"
  },
  "language_info": {
   "codemirror_mode": {
    "name": "ipython",
    "version": 3
   },
   "file_extension": ".py",
   "mimetype": "text/x-python",
   "name": "python",
   "nbconvert_exporter": "python",
   "pygments_lexer": "ipython3",
   "version": "3.8.8"
  }
 },
 "nbformat": 4,
 "nbformat_minor": 5
}
