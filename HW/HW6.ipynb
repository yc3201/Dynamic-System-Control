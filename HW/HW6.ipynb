{
 "cells": [
  {
   "cell_type": "code",
   "execution_count": 1,
   "id": "3d7a0c7c",
   "metadata": {},
   "outputs": [
    {
     "data": {
      "text/html": [
       "<table><thead><th>Id</th><th>Group</th><th>Name</th><th>Rows</th><th>Cols</th><th>NNZ</th><th>DType</th><th>2D/3D Discretization?</th><th>SPD?</th><th>Pattern Symmetry</th><th>Numerical Symmetry</th><th>Kind</th><th>Spy Plot</th></thead><tbody><tr><td>1</td><td><a href=\"https://sparse.tamu.edu/HB\" target=\"_blank\">HB</a></td><td><a href=\"https://sparse.tamu.edu/HB/1138_bus\" target=\"_blank\">1138_bus</a></td><td>1138</td><td>1138</td><td>4054</td><td>real</td><td>No</td><td>Yes</td><td>1.0</td><td>1.0</td><td>power network problem</td><td><img src=\"https://sparse.tamu.edu/files/HB/1138_bus.png\"></td></tr><tr><td>2</td><td><a href=\"https://sparse.tamu.edu/HB\" target=\"_blank\">HB</a></td><td><a href=\"https://sparse.tamu.edu/HB/494_bus\" target=\"_blank\">494_bus</a></td><td>494</td><td>494</td><td>1666</td><td>real</td><td>No</td><td>Yes</td><td>1.0</td><td>1.0</td><td>power network problem</td><td><img src=\"https://sparse.tamu.edu/files/HB/494_bus.png\"></td></tr><tr><td>3</td><td><a href=\"https://sparse.tamu.edu/HB\" target=\"_blank\">HB</a></td><td><a href=\"https://sparse.tamu.edu/HB/662_bus\" target=\"_blank\">662_bus</a></td><td>662</td><td>662</td><td>2474</td><td>real</td><td>No</td><td>Yes</td><td>1.0</td><td>1.0</td><td>power network problem</td><td><img src=\"https://sparse.tamu.edu/files/HB/662_bus.png\"></td></tr><tr><td>4</td><td><a href=\"https://sparse.tamu.edu/HB\" target=\"_blank\">HB</a></td><td><a href=\"https://sparse.tamu.edu/HB/685_bus\" target=\"_blank\">685_bus</a></td><td>685</td><td>685</td><td>3249</td><td>real</td><td>No</td><td>Yes</td><td>1.0</td><td>1.0</td><td>power network problem</td><td><img src=\"https://sparse.tamu.edu/files/HB/685_bus.png\"></td></tr><tr><td>5</td><td><a href=\"https://sparse.tamu.edu/HB\" target=\"_blank\">HB</a></td><td><a href=\"https://sparse.tamu.edu/HB/abb313\" target=\"_blank\">abb313</a></td><td>313</td><td>176</td><td>1557</td><td>binary</td><td>No</td><td>No</td><td>0.0</td><td>0.0</td><td>least squares problem</td><td><img src=\"https://sparse.tamu.edu/files/HB/abb313.png\"></td></tr><tr><td>6</td><td><a href=\"https://sparse.tamu.edu/HB\" target=\"_blank\">HB</a></td><td><a href=\"https://sparse.tamu.edu/HB/arc130\" target=\"_blank\">arc130</a></td><td>130</td><td>130</td><td>1037</td><td>real</td><td>Yes</td><td>No</td><td>0.76</td><td>0.0</td><td>materials problem</td><td><img src=\"https://sparse.tamu.edu/files/HB/arc130.png\"></td></tr><tr><td>7</td><td><a href=\"https://sparse.tamu.edu/HB\" target=\"_blank\">HB</a></td><td><a href=\"https://sparse.tamu.edu/HB/ash219\" target=\"_blank\">ash219</a></td><td>219</td><td>85</td><td>438</td><td>binary</td><td>No</td><td>No</td><td>0.0</td><td>0.0</td><td>least squares problem</td><td><img src=\"https://sparse.tamu.edu/files/HB/ash219.png\"></td></tr><tr><td>8</td><td><a href=\"https://sparse.tamu.edu/HB\" target=\"_blank\">HB</a></td><td><a href=\"https://sparse.tamu.edu/HB/ash292\" target=\"_blank\">ash292</a></td><td>292</td><td>292</td><td>2208</td><td>binary</td><td>No</td><td>No</td><td>1.0</td><td>1.0</td><td>least squares problem</td><td><img src=\"https://sparse.tamu.edu/files/HB/ash292.png\"></td></tr><tr><td>9</td><td><a href=\"https://sparse.tamu.edu/HB\" target=\"_blank\">HB</a></td><td><a href=\"https://sparse.tamu.edu/HB/ash331\" target=\"_blank\">ash331</a></td><td>331</td><td>104</td><td>662</td><td>binary</td><td>No</td><td>No</td><td>0.0</td><td>0.0</td><td>least squares problem</td><td><img src=\"https://sparse.tamu.edu/files/HB/ash331.png\"></td></tr><tr><td>10</td><td><a href=\"https://sparse.tamu.edu/HB\" target=\"_blank\">HB</a></td><td><a href=\"https://sparse.tamu.edu/HB/ash608\" target=\"_blank\">ash608</a></td><td>608</td><td>188</td><td>1216</td><td>binary</td><td>No</td><td>No</td><td>0.0</td><td>0.0</td><td>least squares problem</td><td><img src=\"https://sparse.tamu.edu/files/HB/ash608.png\"></td></tr></tbody></table>"
      ],
      "text/plain": [
       "[Matrix(1, 'HB', '1138_bus', 1138, 1138, 4054, 'real', False, True, 1.0, 1.0, 'power network problem', 'https://sparse.tamu.edu/files/HB/1138_bus.png'),\n",
       " Matrix(2, 'HB', '494_bus', 494, 494, 1666, 'real', False, True, 1.0, 1.0, 'power network problem', 'https://sparse.tamu.edu/files/HB/494_bus.png'),\n",
       " Matrix(3, 'HB', '662_bus', 662, 662, 2474, 'real', False, True, 1.0, 1.0, 'power network problem', 'https://sparse.tamu.edu/files/HB/662_bus.png'),\n",
       " Matrix(4, 'HB', '685_bus', 685, 685, 3249, 'real', False, True, 1.0, 1.0, 'power network problem', 'https://sparse.tamu.edu/files/HB/685_bus.png'),\n",
       " Matrix(5, 'HB', 'abb313', 313, 176, 1557, 'binary', False, False, 0.0, 0.0, 'least squares problem', 'https://sparse.tamu.edu/files/HB/abb313.png'),\n",
       " Matrix(6, 'HB', 'arc130', 130, 130, 1037, 'real', True, False, 0.7586805555555556, 0.0, 'materials problem', 'https://sparse.tamu.edu/files/HB/arc130.png'),\n",
       " Matrix(7, 'HB', 'ash219', 219, 85, 438, 'binary', False, False, 0.0, 0.0, 'least squares problem', 'https://sparse.tamu.edu/files/HB/ash219.png'),\n",
       " Matrix(8, 'HB', 'ash292', 292, 292, 2208, 'binary', False, False, 1.0, 1.0, 'least squares problem', 'https://sparse.tamu.edu/files/HB/ash292.png'),\n",
       " Matrix(9, 'HB', 'ash331', 331, 104, 662, 'binary', False, False, 0.0, 0.0, 'least squares problem', 'https://sparse.tamu.edu/files/HB/ash331.png'),\n",
       " Matrix(10, 'HB', 'ash608', 608, 188, 1216, 'binary', False, False, 0.0, 0.0, 'least squares problem', 'https://sparse.tamu.edu/files/HB/ash608.png')]"
      ]
     },
     "execution_count": 1,
     "metadata": {},
     "output_type": "execute_result"
    }
   ],
   "source": [
    "import ssgetpy\n",
    "\n",
    "ssgetpy.search()"
   ]
  },
  {
   "cell_type": "code",
   "execution_count": 3,
   "id": "209d5f43",
   "metadata": {},
   "outputs": [
    {
     "data": {
      "text/html": [
       "<table><thead><th>Id</th><th>Group</th><th>Name</th><th>Rows</th><th>Cols</th><th>NNZ</th><th>DType</th><th>2D/3D Discretization?</th><th>SPD?</th><th>Pattern Symmetry</th><th>Numerical Symmetry</th><th>Kind</th><th>Spy Plot</th></thead><tbody><tr><td>24</td><td><a href=\"https://sparse.tamu.edu/HB\" target=\"_blank\">HB</a></td><td><a href=\"https://sparse.tamu.edu/HB/bcsstk02\" target=\"_blank\">bcsstk02</a></td><td>66</td><td>66</td><td>4356</td><td>real</td><td>Yes</td><td>Yes</td><td>1.0</td><td>1.0</td><td>structural problem</td><td><img src=\"https://sparse.tamu.edu/files/HB/bcsstk02.png\"></td></tr><tr><td>26</td><td><a href=\"https://sparse.tamu.edu/HB\" target=\"_blank\">HB</a></td><td><a href=\"https://sparse.tamu.edu/HB/bcsstk04\" target=\"_blank\">bcsstk04</a></td><td>132</td><td>132</td><td>3648</td><td>real</td><td>Yes</td><td>Yes</td><td>1.0</td><td>1.0</td><td>structural problem</td><td><img src=\"https://sparse.tamu.edu/files/HB/bcsstk04.png\"></td></tr><tr><td>27</td><td><a href=\"https://sparse.tamu.edu/HB\" target=\"_blank\">HB</a></td><td><a href=\"https://sparse.tamu.edu/HB/bcsstk05\" target=\"_blank\">bcsstk05</a></td><td>153</td><td>153</td><td>2423</td><td>real</td><td>Yes</td><td>Yes</td><td>1.0</td><td>1.0</td><td>structural problem</td><td><img src=\"https://sparse.tamu.edu/files/HB/bcsstk05.png\"></td></tr><tr><td>28</td><td><a href=\"https://sparse.tamu.edu/HB\" target=\"_blank\">HB</a></td><td><a href=\"https://sparse.tamu.edu/HB/bcsstk06\" target=\"_blank\">bcsstk06</a></td><td>420</td><td>420</td><td>7860</td><td>real</td><td>Yes</td><td>Yes</td><td>1.0</td><td>1.0</td><td>structural problem</td><td><img src=\"https://sparse.tamu.edu/files/HB/bcsstk06.png\"></td></tr><tr><td>29</td><td><a href=\"https://sparse.tamu.edu/HB\" target=\"_blank\">HB</a></td><td><a href=\"https://sparse.tamu.edu/HB/bcsstk07\" target=\"_blank\">bcsstk07</a></td><td>420</td><td>420</td><td>7860</td><td>real</td><td>Yes</td><td>Yes</td><td>1.0</td><td>1.0</td><td>duplicate structural problem</td><td><img src=\"https://sparse.tamu.edu/files/HB/bcsstk07.png\"></td></tr><tr><td>41</td><td><a href=\"https://sparse.tamu.edu/HB\" target=\"_blank\">HB</a></td><td><a href=\"https://sparse.tamu.edu/HB/bcsstk19\" target=\"_blank\">bcsstk19</a></td><td>817</td><td>817</td><td>6853</td><td>real</td><td>Yes</td><td>Yes</td><td>1.0</td><td>1.0</td><td>structural problem</td><td><img src=\"https://sparse.tamu.edu/files/HB/bcsstk19.png\"></td></tr><tr><td>42</td><td><a href=\"https://sparse.tamu.edu/HB\" target=\"_blank\">HB</a></td><td><a href=\"https://sparse.tamu.edu/HB/bcsstk20\" target=\"_blank\">bcsstk20</a></td><td>485</td><td>485</td><td>3135</td><td>real</td><td>Yes</td><td>Yes</td><td>1.0</td><td>1.0</td><td>structural problem</td><td><img src=\"https://sparse.tamu.edu/files/HB/bcsstk20.png\"></td></tr><tr><td>62</td><td><a href=\"https://sparse.tamu.edu/HB\" target=\"_blank\">HB</a></td><td><a href=\"https://sparse.tamu.edu/HB/bcsstm07\" target=\"_blank\">bcsstm07</a></td><td>420</td><td>420</td><td>7252</td><td>real</td><td>Yes</td><td>Yes</td><td>1.0</td><td>1.0</td><td>structural problem</td><td><img src=\"https://sparse.tamu.edu/files/HB/bcsstm07.png\"></td></tr><tr><td>63</td><td><a href=\"https://sparse.tamu.edu/HB\" target=\"_blank\">HB</a></td><td><a href=\"https://sparse.tamu.edu/HB/bcsstm08\" target=\"_blank\">bcsstm08</a></td><td>1074</td><td>1074</td><td>1074</td><td>real</td><td>Yes</td><td>Yes</td><td>1.0</td><td>1.0</td><td>structural problem</td><td><img src=\"https://sparse.tamu.edu/files/HB/bcsstm08.png\"></td></tr><tr><td>64</td><td><a href=\"https://sparse.tamu.edu/HB\" target=\"_blank\">HB</a></td><td><a href=\"https://sparse.tamu.edu/HB/bcsstm09\" target=\"_blank\">bcsstm09</a></td><td>1083</td><td>1083</td><td>1083</td><td>real</td><td>Yes</td><td>Yes</td><td>1.0</td><td>1.0</td><td>structural problem</td><td><img src=\"https://sparse.tamu.edu/files/HB/bcsstm09.png\"></td></tr></tbody></table>"
      ],
      "text/plain": [
       "[Matrix(24, 'HB', 'bcsstk02', 66, 66, 4356, 'real', True, True, 1.0, 1.0, 'structural problem', 'https://sparse.tamu.edu/files/HB/bcsstk02.png'),\n",
       " Matrix(26, 'HB', 'bcsstk04', 132, 132, 3648, 'real', True, True, 1.0, 1.0, 'structural problem', 'https://sparse.tamu.edu/files/HB/bcsstk04.png'),\n",
       " Matrix(27, 'HB', 'bcsstk05', 153, 153, 2423, 'real', True, True, 1.0, 1.0, 'structural problem', 'https://sparse.tamu.edu/files/HB/bcsstk05.png'),\n",
       " Matrix(28, 'HB', 'bcsstk06', 420, 420, 7860, 'real', True, True, 1.0, 1.0, 'structural problem', 'https://sparse.tamu.edu/files/HB/bcsstk06.png'),\n",
       " Matrix(29, 'HB', 'bcsstk07', 420, 420, 7860, 'real', True, True, 1.0, 1.0, 'duplicate structural problem', 'https://sparse.tamu.edu/files/HB/bcsstk07.png'),\n",
       " Matrix(41, 'HB', 'bcsstk19', 817, 817, 6853, 'real', True, True, 1.0, 1.0, 'structural problem', 'https://sparse.tamu.edu/files/HB/bcsstk19.png'),\n",
       " Matrix(42, 'HB', 'bcsstk20', 485, 485, 3135, 'real', True, True, 1.0, 1.0, 'structural problem', 'https://sparse.tamu.edu/files/HB/bcsstk20.png'),\n",
       " Matrix(62, 'HB', 'bcsstm07', 420, 420, 7252, 'real', True, True, 1.0, 1.0, 'structural problem', 'https://sparse.tamu.edu/files/HB/bcsstm07.png'),\n",
       " Matrix(63, 'HB', 'bcsstm08', 1074, 1074, 1074, 'real', True, True, 1.0, 1.0, 'structural problem', 'https://sparse.tamu.edu/files/HB/bcsstm08.png'),\n",
       " Matrix(64, 'HB', 'bcsstm09', 1083, 1083, 1083, 'real', True, True, 1.0, 1.0, 'structural problem', 'https://sparse.tamu.edu/files/HB/bcsstm09.png')]"
      ]
     },
     "execution_count": 3,
     "metadata": {},
     "output_type": "execute_result"
    }
   ],
   "source": [
    "result = ssgetpy.search(kind='structural', nzbounds=(1000,10000))\n",
    "result[:10]"
   ]
  },
  {
   "cell_type": "code",
   "execution_count": 4,
   "id": "03d8db1f",
   "metadata": {},
   "outputs": [
    {
     "data": {
      "text/html": [
       "<table><thead><th>Id</th><th>Group</th><th>Name</th><th>Rows</th><th>Cols</th><th>NNZ</th><th>DType</th><th>2D/3D Discretization?</th><th>SPD?</th><th>Pattern Symmetry</th><th>Numerical Symmetry</th><th>Kind</th><th>Spy Plot</th></thead><tbody><tr><td>27</td><td><a href=\"https://sparse.tamu.edu/HB\" target=\"_blank\">HB</a></td><td><a href=\"https://sparse.tamu.edu/HB/bcsstk05\" target=\"_blank\">bcsstk05</a></td><td>153</td><td>153</td><td>2423</td><td>real</td><td>Yes</td><td>Yes</td><td>1.0</td><td>1.0</td><td>structural problem</td><td><img src=\"https://sparse.tamu.edu/files/HB/bcsstk05.png\"></td></tr></tbody></table>"
      ],
      "text/plain": [
       "Matrix(27, 'HB', 'bcsstk05', 153, 153, 2423, 'real', True, True, 1.0, 1.0, 'structural problem', 'https://sparse.tamu.edu/files/HB/bcsstk05.png')"
      ]
     },
     "execution_count": 4,
     "metadata": {},
     "output_type": "execute_result"
    }
   ],
   "source": [
    "matrix1 = result[2]\n",
    "matrix1"
   ]
  },
  {
   "cell_type": "code",
   "execution_count": 5,
   "id": "4531a904",
   "metadata": {},
   "outputs": [
    {
     "data": {
      "text/plain": [
       "2423"
      ]
     },
     "execution_count": 5,
     "metadata": {},
     "output_type": "execute_result"
    }
   ],
   "source": [
    "matrix1.nnz\n"
   ]
  },
  {
   "cell_type": "code",
   "execution_count": 7,
   "id": "db114221",
   "metadata": {},
   "outputs": [
    {
     "data": {
      "text/plain": [
       "('/Users/ycui25/.ssgetpy/MM/HB/bcsstk05.tar.gz',\n",
       " '/Users/ycui25/.ssgetpy/MM/HB/bcsstk05.tar.gz')"
      ]
     },
     "execution_count": 7,
     "metadata": {},
     "output_type": "execute_result"
    }
   ],
   "source": [
    "matrix1.download()"
   ]
  },
  {
   "cell_type": "code",
   "execution_count": 11,
   "id": "53ddc6f7",
   "metadata": {},
   "outputs": [],
   "source": [
    "import tarfile\n",
    "\n",
    "t = tarfile.open('/Users/ycui25/.ssgetpy/MM/HB/bcsstk05.tar.gz', 'r')"
   ]
  },
  {
   "cell_type": "code",
   "execution_count": 12,
   "id": "32b82020",
   "metadata": {},
   "outputs": [
    {
     "name": "stdout",
     "output_type": "stream",
     "text": [
      "<tarfile.TarFile object at 0x7fddb8af3640>\n"
     ]
    }
   ],
   "source": [
    "print(t)"
   ]
  },
  {
   "cell_type": "code",
   "execution_count": 13,
   "id": "b7701aba",
   "metadata": {},
   "outputs": [
    {
     "name": "stdout",
     "output_type": "stream",
     "text": [
      "files in the tar file are:\n",
      "bcsstk05/bcsstk05.mtx\n"
     ]
    }
   ],
   "source": [
    "namelist=t.getnames()\n",
    " \n",
    "#print the filenames\n",
    "print(\"files in the tar file are:\")\n",
    "for name in namelist:\n",
    "    print(name)"
   ]
  },
  {
   "cell_type": "code",
   "execution_count": 32,
   "id": "fa8c2729",
   "metadata": {},
   "outputs": [],
   "source": [
    "#extract a fil'\n",
    "file=t.extract('bcsstk05/bcsstk05.mtx','./my_folder')"
   ]
  },
  {
   "cell_type": "code",
   "execution_count": 19,
   "id": "a41b0315",
   "metadata": {},
   "outputs": [],
   "source": [
    "from scipy import io"
   ]
  },
  {
   "cell_type": "code",
   "execution_count": 33,
   "id": "f6a04258",
   "metadata": {},
   "outputs": [],
   "source": [
    "Matrix = (io.mmread('./my_folder/bcsstk05/bcsstk05.mtx'))\n",
    "B = Matrix.todense()"
   ]
  },
  {
   "cell_type": "code",
   "execution_count": 34,
   "id": "82092a9d",
   "metadata": {},
   "outputs": [
    {
     "name": "stdout",
     "output_type": "stream",
     "text": [
      "[[ 3.14313928e+05  0.00000000e+00  0.00000000e+00 ...  0.00000000e+00\n",
      "   0.00000000e+00  0.00000000e+00]\n",
      " [ 0.00000000e+00  1.07289937e+06  4.65661287e-10 ...  0.00000000e+00\n",
      "   0.00000000e+00  0.00000000e+00]\n",
      " [ 0.00000000e+00  4.65661287e-10  1.40598187e+05 ...  0.00000000e+00\n",
      "   0.00000000e+00  0.00000000e+00]\n",
      " ...\n",
      " [ 0.00000000e+00  0.00000000e+00  0.00000000e+00 ...  2.41225059e+05\n",
      "  -1.70471280e+05 -2.06908460e+04]\n",
      " [ 0.00000000e+00  0.00000000e+00  0.00000000e+00 ... -1.70471280e+05\n",
      "   1.40598789e+06  1.70471280e+05]\n",
      " [ 0.00000000e+00  0.00000000e+00  0.00000000e+00 ... -2.06908460e+04\n",
      "   1.70471280e+05  2.41225059e+05]]\n"
     ]
    }
   ],
   "source": [
    "print(B)"
   ]
  },
  {
   "cell_type": "code",
   "execution_count": 35,
   "id": "006ee4e5",
   "metadata": {},
   "outputs": [
    {
     "name": "stdout",
     "output_type": "stream",
     "text": [
      "Current working directory: /Users/ycui25/Dropbox/MA 531\n"
     ]
    }
   ],
   "source": [
    "import os\n",
    "# Get the current working directory\n",
    "cwd = os.getcwd()\n",
    "\n",
    "# Print the current working directory\n",
    "print(\"Current working directory: {0}\".format(cwd))"
   ]
  },
  {
   "cell_type": "code",
   "execution_count": 48,
   "id": "0211d5b7",
   "metadata": {},
   "outputs": [],
   "source": [
    "result = ssgetpy.search()\n",
    "matrix2 = result[1]\n"
   ]
  },
  {
   "cell_type": "code",
   "execution_count": 49,
   "id": "c7725a21",
   "metadata": {},
   "outputs": [
    {
     "data": {
      "application/vnd.jupyter.widget-view+json": {
       "model_id": "505962cf151f444a8633d398742238dd",
       "version_major": 2,
       "version_minor": 0
      },
      "text/plain": [
       "494_bus:   0%|          | 0/8622 [00:00<?, ?B/s]"
      ]
     },
     "metadata": {},
     "output_type": "display_data"
    },
    {
     "data": {
      "text/plain": [
       "('/Users/ycui25/.ssgetpy/MM/HB/494_bus.tar.gz',\n",
       " '/Users/ycui25/.ssgetpy/MM/HB/494_bus.tar.gz')"
      ]
     },
     "execution_count": 49,
     "metadata": {},
     "output_type": "execute_result"
    }
   ],
   "source": [
    "matrix2.download()"
   ]
  },
  {
   "cell_type": "code",
   "execution_count": 51,
   "id": "aeae0bb4",
   "metadata": {},
   "outputs": [
    {
     "name": "stdout",
     "output_type": "stream",
     "text": [
      "files in the tar file are:\n",
      "494_bus/494_bus.mtx\n"
     ]
    }
   ],
   "source": [
    "t = tarfile.open('/Users/ycui25/.ssgetpy/MM/HB/494_bus.tar.gz', 'r')\n",
    "namelist=t.getnames()\n",
    " \n",
    "#print the filenames\n",
    "print(\"files in the tar file are:\")\n",
    "for name in namelist:\n",
    "    print(name)\n",
    "    \n",
    "#extract a fil'\n",
    "file=t.extract('494_bus/494_bus.mtx','./matrix2')    "
   ]
  },
  {
   "cell_type": "code",
   "execution_count": null,
   "id": "7f4ec91a",
   "metadata": {},
   "outputs": [],
   "source": []
  }
 ],
 "metadata": {
  "kernelspec": {
   "display_name": "Python 3",
   "language": "python",
   "name": "python3"
  },
  "language_info": {
   "codemirror_mode": {
    "name": "ipython",
    "version": 3
   },
   "file_extension": ".py",
   "mimetype": "text/x-python",
   "name": "python",
   "nbconvert_exporter": "python",
   "pygments_lexer": "ipython3",
   "version": "3.8.8"
  }
 },
 "nbformat": 4,
 "nbformat_minor": 5
}
